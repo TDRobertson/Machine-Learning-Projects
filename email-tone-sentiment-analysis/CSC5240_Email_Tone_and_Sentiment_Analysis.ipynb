{
  "cells": [
    {
      "cell_type": "markdown",
      "metadata": {
        "id": "view-in-github",
        "colab_type": "text"
      },
      "source": [
        "<a href=\"https://colab.research.google.com/github/TDRobertson/CSC_5240_Email_Tone_and_Sentiment_Analysis/blob/main/CSC5240_Email_Tone_and_Sentiment_Analysis.ipynb\" target=\"_parent\"><img src=\"https://colab.research.google.com/assets/colab-badge.svg\" alt=\"Open In Colab\"/></a>"
      ]
    },
    {
      "cell_type": "markdown",
      "id": "be7df028",
      "metadata": {
        "id": "be7df028"
      },
      "source": [
        "\n",
        "# AI Final Project - Email Tone and Sentiment Analysis\n",
        "\n",
        "This project integrates advanced AI tools to analyze emails for sentiment, tone, and potential grammatical issues. It provides dynamic tone feedback, visualizes trends, and leverages various pre-trained models.\n",
        "\n",
        "## Tools and Libraries Used\n",
        "\n",
        "This project uses a variety of libraries and tools for Natural Language Processing (NLP), sentiment analysis, and visualization. Below is a summary of the libraries used and their purposes:\n",
        "\n",
        "- **Transformers (Hugging Face)**: Provides pre-trained models for sentiment analysis, emotion detection, sarcasm detection, and text summarization.\n",
        "- **NLTK**: Traditional sentiment analysis using VADER.\n",
        "- **TextBlob**: Offers simple text processing capabilities.\n",
        "- **SpaCy**: Advanced grammar checking and natural language understanding.\n",
        "- **Matplotlib & Seaborn**: Visualization of emotion and sentiment trends.\n",
        "- **textstat**: Computes readability scores.\n",
        "- **language_tool_python**: Checks grammar and spelling.\n",
        "\n"
      ]
    },
    {
      "cell_type": "markdown",
      "id": "31d839ed",
      "metadata": {
        "id": "31d839ed"
      },
      "source": [
        "\n",
        "### Installing Required Dependencies\n",
        "\n",
        "In this section, we install all the necessary Python libraries. These libraries enable various functionalities such as sentiment analysis, emotion detection, text summarization, grammar checking, and data visualization.\n",
        "\n",
        "- **Transformers**: For pre-trained NLP models.\n",
        "- **NLTK**: Includes the VADER sentiment analyzer.\n",
        "- **TextBlob**: Provides basic text processing capabilities.\n",
        "- **SpaCy and SpaCy-Transformers**: For grammar checking and advanced NLP tasks.\n",
        "- **Matplotlib and Seaborn**: Libraries for plotting and visualizing data.\n",
        "- **textstat**: Computes readability scores for the text.\n",
        "- **language_tool_python**: Grammar and spelling correction.\n",
        "\n"
      ]
    },
    {
      "cell_type": "code",
      "execution_count": null,
      "id": "9c2f077c",
      "metadata": {
        "colab": {
          "base_uri": "https://localhost:8080/"
        },
        "id": "9c2f077c",
        "outputId": "077adc4d-2f66-4680-ab97-07db85464819"
      },
      "outputs": [
        {
          "output_type": "stream",
          "name": "stdout",
          "text": [
            "Requirement already satisfied: transformers in /usr/local/lib/python3.10/dist-packages (4.46.3)\n",
            "Requirement already satisfied: filelock in /usr/local/lib/python3.10/dist-packages (from transformers) (3.16.1)\n",
            "Requirement already satisfied: huggingface-hub<1.0,>=0.23.2 in /usr/local/lib/python3.10/dist-packages (from transformers) (0.26.2)\n",
            "Requirement already satisfied: numpy>=1.17 in /usr/local/lib/python3.10/dist-packages (from transformers) (1.26.4)\n",
            "Requirement already satisfied: packaging>=20.0 in /usr/local/lib/python3.10/dist-packages (from transformers) (24.2)\n",
            "Requirement already satisfied: pyyaml>=5.1 in /usr/local/lib/python3.10/dist-packages (from transformers) (6.0.2)\n",
            "Requirement already satisfied: regex!=2019.12.17 in /usr/local/lib/python3.10/dist-packages (from transformers) (2024.9.11)\n",
            "Requirement already satisfied: requests in /usr/local/lib/python3.10/dist-packages (from transformers) (2.32.3)\n",
            "Requirement already satisfied: tokenizers<0.21,>=0.20 in /usr/local/lib/python3.10/dist-packages (from transformers) (0.20.3)\n",
            "Requirement already satisfied: safetensors>=0.4.1 in /usr/local/lib/python3.10/dist-packages (from transformers) (0.4.5)\n",
            "Requirement already satisfied: tqdm>=4.27 in /usr/local/lib/python3.10/dist-packages (from transformers) (4.66.6)\n",
            "Requirement already satisfied: fsspec>=2023.5.0 in /usr/local/lib/python3.10/dist-packages (from huggingface-hub<1.0,>=0.23.2->transformers) (2024.10.0)\n",
            "Requirement already satisfied: typing-extensions>=3.7.4.3 in /usr/local/lib/python3.10/dist-packages (from huggingface-hub<1.0,>=0.23.2->transformers) (4.12.2)\n",
            "Requirement already satisfied: charset-normalizer<4,>=2 in /usr/local/lib/python3.10/dist-packages (from requests->transformers) (3.4.0)\n",
            "Requirement already satisfied: idna<4,>=2.5 in /usr/local/lib/python3.10/dist-packages (from requests->transformers) (3.10)\n",
            "Requirement already satisfied: urllib3<3,>=1.21.1 in /usr/local/lib/python3.10/dist-packages (from requests->transformers) (2.2.3)\n",
            "Requirement already satisfied: certifi>=2017.4.17 in /usr/local/lib/python3.10/dist-packages (from requests->transformers) (2024.8.30)\n",
            "Requirement already satisfied: nltk in /usr/local/lib/python3.10/dist-packages (3.9.1)\n",
            "Requirement already satisfied: click in /usr/local/lib/python3.10/dist-packages (from nltk) (8.1.7)\n",
            "Requirement already satisfied: joblib in /usr/local/lib/python3.10/dist-packages (from nltk) (1.4.2)\n",
            "Requirement already satisfied: regex>=2021.8.3 in /usr/local/lib/python3.10/dist-packages (from nltk) (2024.9.11)\n",
            "Requirement already satisfied: tqdm in /usr/local/lib/python3.10/dist-packages (from nltk) (4.66.6)\n",
            "Requirement already satisfied: textblob in /usr/local/lib/python3.10/dist-packages (0.17.1)\n",
            "Requirement already satisfied: nltk>=3.1 in /usr/local/lib/python3.10/dist-packages (from textblob) (3.9.1)\n",
            "Requirement already satisfied: click in /usr/local/lib/python3.10/dist-packages (from nltk>=3.1->textblob) (8.1.7)\n",
            "Requirement already satisfied: joblib in /usr/local/lib/python3.10/dist-packages (from nltk>=3.1->textblob) (1.4.2)\n",
            "Requirement already satisfied: regex>=2021.8.3 in /usr/local/lib/python3.10/dist-packages (from nltk>=3.1->textblob) (2024.9.11)\n",
            "Requirement already satisfied: tqdm in /usr/local/lib/python3.10/dist-packages (from nltk>=3.1->textblob) (4.66.6)\n",
            "Requirement already satisfied: textstat in /usr/local/lib/python3.10/dist-packages (0.7.4)\n",
            "Requirement already satisfied: pyphen in /usr/local/lib/python3.10/dist-packages (from textstat) (0.17.0)\n",
            "Requirement already satisfied: setuptools in /usr/local/lib/python3.10/dist-packages (from textstat) (75.1.0)\n",
            "Requirement already satisfied: language-tool-python in /usr/local/lib/python3.10/dist-packages (2.8.1)\n",
            "Requirement already satisfied: pip in /usr/local/lib/python3.10/dist-packages (from language-tool-python) (24.1.2)\n",
            "Requirement already satisfied: requests in /usr/local/lib/python3.10/dist-packages (from language-tool-python) (2.32.3)\n",
            "Requirement already satisfied: tqdm in /usr/local/lib/python3.10/dist-packages (from language-tool-python) (4.66.6)\n",
            "Requirement already satisfied: wheel in /usr/local/lib/python3.10/dist-packages (from language-tool-python) (0.45.0)\n",
            "Requirement already satisfied: charset-normalizer<4,>=2 in /usr/local/lib/python3.10/dist-packages (from requests->language-tool-python) (3.4.0)\n",
            "Requirement already satisfied: idna<4,>=2.5 in /usr/local/lib/python3.10/dist-packages (from requests->language-tool-python) (3.10)\n",
            "Requirement already satisfied: urllib3<3,>=1.21.1 in /usr/local/lib/python3.10/dist-packages (from requests->language-tool-python) (2.2.3)\n",
            "Requirement already satisfied: certifi>=2017.4.17 in /usr/local/lib/python3.10/dist-packages (from requests->language-tool-python) (2024.8.30)\n",
            "Requirement already satisfied: spacy in /usr/local/lib/python3.10/dist-packages (3.7.5)\n",
            "Requirement already satisfied: spacy-legacy<3.1.0,>=3.0.11 in /usr/local/lib/python3.10/dist-packages (from spacy) (3.0.12)\n",
            "Requirement already satisfied: spacy-loggers<2.0.0,>=1.0.0 in /usr/local/lib/python3.10/dist-packages (from spacy) (1.0.5)\n",
            "Requirement already satisfied: murmurhash<1.1.0,>=0.28.0 in /usr/local/lib/python3.10/dist-packages (from spacy) (1.0.10)\n",
            "Requirement already satisfied: cymem<2.1.0,>=2.0.2 in /usr/local/lib/python3.10/dist-packages (from spacy) (2.0.8)\n",
            "Requirement already satisfied: preshed<3.1.0,>=3.0.2 in /usr/local/lib/python3.10/dist-packages (from spacy) (3.0.9)\n",
            "Requirement already satisfied: thinc<8.3.0,>=8.2.2 in /usr/local/lib/python3.10/dist-packages (from spacy) (8.2.5)\n",
            "Requirement already satisfied: wasabi<1.2.0,>=0.9.1 in /usr/local/lib/python3.10/dist-packages (from spacy) (1.1.3)\n",
            "Requirement already satisfied: srsly<3.0.0,>=2.4.3 in /usr/local/lib/python3.10/dist-packages (from spacy) (2.4.8)\n",
            "Requirement already satisfied: catalogue<2.1.0,>=2.0.6 in /usr/local/lib/python3.10/dist-packages (from spacy) (2.0.10)\n",
            "Requirement already satisfied: weasel<0.5.0,>=0.1.0 in /usr/local/lib/python3.10/dist-packages (from spacy) (0.4.1)\n",
            "Requirement already satisfied: typer<1.0.0,>=0.3.0 in /usr/local/lib/python3.10/dist-packages (from spacy) (0.13.0)\n",
            "Requirement already satisfied: tqdm<5.0.0,>=4.38.0 in /usr/local/lib/python3.10/dist-packages (from spacy) (4.66.6)\n",
            "Requirement already satisfied: requests<3.0.0,>=2.13.0 in /usr/local/lib/python3.10/dist-packages (from spacy) (2.32.3)\n",
            "Requirement already satisfied: pydantic!=1.8,!=1.8.1,<3.0.0,>=1.7.4 in /usr/local/lib/python3.10/dist-packages (from spacy) (2.9.2)\n",
            "Requirement already satisfied: jinja2 in /usr/local/lib/python3.10/dist-packages (from spacy) (3.1.4)\n",
            "Requirement already satisfied: setuptools in /usr/local/lib/python3.10/dist-packages (from spacy) (75.1.0)\n",
            "Requirement already satisfied: packaging>=20.0 in /usr/local/lib/python3.10/dist-packages (from spacy) (24.2)\n",
            "Requirement already satisfied: langcodes<4.0.0,>=3.2.0 in /usr/local/lib/python3.10/dist-packages (from spacy) (3.4.1)\n",
            "Requirement already satisfied: numpy>=1.19.0 in /usr/local/lib/python3.10/dist-packages (from spacy) (1.26.4)\n",
            "Requirement already satisfied: language-data>=1.2 in /usr/local/lib/python3.10/dist-packages (from langcodes<4.0.0,>=3.2.0->spacy) (1.2.0)\n",
            "Requirement already satisfied: annotated-types>=0.6.0 in /usr/local/lib/python3.10/dist-packages (from pydantic!=1.8,!=1.8.1,<3.0.0,>=1.7.4->spacy) (0.7.0)\n",
            "Requirement already satisfied: pydantic-core==2.23.4 in /usr/local/lib/python3.10/dist-packages (from pydantic!=1.8,!=1.8.1,<3.0.0,>=1.7.4->spacy) (2.23.4)\n",
            "Requirement already satisfied: typing-extensions>=4.6.1 in /usr/local/lib/python3.10/dist-packages (from pydantic!=1.8,!=1.8.1,<3.0.0,>=1.7.4->spacy) (4.12.2)\n",
            "Requirement already satisfied: charset-normalizer<4,>=2 in /usr/local/lib/python3.10/dist-packages (from requests<3.0.0,>=2.13.0->spacy) (3.4.0)\n",
            "Requirement already satisfied: idna<4,>=2.5 in /usr/local/lib/python3.10/dist-packages (from requests<3.0.0,>=2.13.0->spacy) (3.10)\n",
            "Requirement already satisfied: urllib3<3,>=1.21.1 in /usr/local/lib/python3.10/dist-packages (from requests<3.0.0,>=2.13.0->spacy) (2.2.3)\n",
            "Requirement already satisfied: certifi>=2017.4.17 in /usr/local/lib/python3.10/dist-packages (from requests<3.0.0,>=2.13.0->spacy) (2024.8.30)\n",
            "Requirement already satisfied: blis<0.8.0,>=0.7.8 in /usr/local/lib/python3.10/dist-packages (from thinc<8.3.0,>=8.2.2->spacy) (0.7.11)\n",
            "Requirement already satisfied: confection<1.0.0,>=0.0.1 in /usr/local/lib/python3.10/dist-packages (from thinc<8.3.0,>=8.2.2->spacy) (0.1.5)\n",
            "Requirement already satisfied: click>=8.0.0 in /usr/local/lib/python3.10/dist-packages (from typer<1.0.0,>=0.3.0->spacy) (8.1.7)\n",
            "Requirement already satisfied: shellingham>=1.3.0 in /usr/local/lib/python3.10/dist-packages (from typer<1.0.0,>=0.3.0->spacy) (1.5.4)\n",
            "Requirement already satisfied: rich>=10.11.0 in /usr/local/lib/python3.10/dist-packages (from typer<1.0.0,>=0.3.0->spacy) (13.9.4)\n",
            "Requirement already satisfied: cloudpathlib<1.0.0,>=0.7.0 in /usr/local/lib/python3.10/dist-packages (from weasel<0.5.0,>=0.1.0->spacy) (0.20.0)\n",
            "Requirement already satisfied: smart-open<8.0.0,>=5.2.1 in /usr/local/lib/python3.10/dist-packages (from weasel<0.5.0,>=0.1.0->spacy) (7.0.5)\n",
            "Requirement already satisfied: MarkupSafe>=2.0 in /usr/local/lib/python3.10/dist-packages (from jinja2->spacy) (3.0.2)\n",
            "Requirement already satisfied: marisa-trie>=0.7.7 in /usr/local/lib/python3.10/dist-packages (from language-data>=1.2->langcodes<4.0.0,>=3.2.0->spacy) (1.2.1)\n",
            "Requirement already satisfied: markdown-it-py>=2.2.0 in /usr/local/lib/python3.10/dist-packages (from rich>=10.11.0->typer<1.0.0,>=0.3.0->spacy) (3.0.0)\n",
            "Requirement already satisfied: pygments<3.0.0,>=2.13.0 in /usr/local/lib/python3.10/dist-packages (from rich>=10.11.0->typer<1.0.0,>=0.3.0->spacy) (2.18.0)\n",
            "Requirement already satisfied: wrapt in /usr/local/lib/python3.10/dist-packages (from smart-open<8.0.0,>=5.2.1->weasel<0.5.0,>=0.1.0->spacy) (1.16.0)\n",
            "Requirement already satisfied: mdurl~=0.1 in /usr/local/lib/python3.10/dist-packages (from markdown-it-py>=2.2.0->rich>=10.11.0->typer<1.0.0,>=0.3.0->spacy) (0.1.2)\n",
            "Requirement already satisfied: spacy-transformers in /usr/local/lib/python3.10/dist-packages (1.3.5)\n",
            "Requirement already satisfied: spacy<4.1.0,>=3.5.0 in /usr/local/lib/python3.10/dist-packages (from spacy-transformers) (3.7.5)\n",
            "Collecting transformers<4.37.0,>=3.4.0 (from spacy-transformers)\n",
            "  Using cached transformers-4.36.2-py3-none-any.whl.metadata (126 kB)\n",
            "Requirement already satisfied: torch>=1.8.0 in /usr/local/lib/python3.10/dist-packages (from spacy-transformers) (2.5.1+cu121)\n",
            "Requirement already satisfied: srsly<3.0.0,>=2.4.0 in /usr/local/lib/python3.10/dist-packages (from spacy-transformers) (2.4.8)\n",
            "Requirement already satisfied: spacy-alignments<1.0.0,>=0.7.2 in /usr/local/lib/python3.10/dist-packages (from spacy-transformers) (0.9.1)\n",
            "Requirement already satisfied: numpy>=1.19.0 in /usr/local/lib/python3.10/dist-packages (from spacy-transformers) (1.26.4)\n",
            "Requirement already satisfied: spacy-legacy<3.1.0,>=3.0.11 in /usr/local/lib/python3.10/dist-packages (from spacy<4.1.0,>=3.5.0->spacy-transformers) (3.0.12)\n",
            "Requirement already satisfied: spacy-loggers<2.0.0,>=1.0.0 in /usr/local/lib/python3.10/dist-packages (from spacy<4.1.0,>=3.5.0->spacy-transformers) (1.0.5)\n",
            "Requirement already satisfied: murmurhash<1.1.0,>=0.28.0 in /usr/local/lib/python3.10/dist-packages (from spacy<4.1.0,>=3.5.0->spacy-transformers) (1.0.10)\n",
            "Requirement already satisfied: cymem<2.1.0,>=2.0.2 in /usr/local/lib/python3.10/dist-packages (from spacy<4.1.0,>=3.5.0->spacy-transformers) (2.0.8)\n",
            "Requirement already satisfied: preshed<3.1.0,>=3.0.2 in /usr/local/lib/python3.10/dist-packages (from spacy<4.1.0,>=3.5.0->spacy-transformers) (3.0.9)\n",
            "Requirement already satisfied: thinc<8.3.0,>=8.2.2 in /usr/local/lib/python3.10/dist-packages (from spacy<4.1.0,>=3.5.0->spacy-transformers) (8.2.5)\n",
            "Requirement already satisfied: wasabi<1.2.0,>=0.9.1 in /usr/local/lib/python3.10/dist-packages (from spacy<4.1.0,>=3.5.0->spacy-transformers) (1.1.3)\n",
            "Requirement already satisfied: catalogue<2.1.0,>=2.0.6 in /usr/local/lib/python3.10/dist-packages (from spacy<4.1.0,>=3.5.0->spacy-transformers) (2.0.10)\n",
            "Requirement already satisfied: weasel<0.5.0,>=0.1.0 in /usr/local/lib/python3.10/dist-packages (from spacy<4.1.0,>=3.5.0->spacy-transformers) (0.4.1)\n",
            "Requirement already satisfied: typer<1.0.0,>=0.3.0 in /usr/local/lib/python3.10/dist-packages (from spacy<4.1.0,>=3.5.0->spacy-transformers) (0.13.0)\n",
            "Requirement already satisfied: tqdm<5.0.0,>=4.38.0 in /usr/local/lib/python3.10/dist-packages (from spacy<4.1.0,>=3.5.0->spacy-transformers) (4.66.6)\n",
            "Requirement already satisfied: requests<3.0.0,>=2.13.0 in /usr/local/lib/python3.10/dist-packages (from spacy<4.1.0,>=3.5.0->spacy-transformers) (2.32.3)\n",
            "Requirement already satisfied: pydantic!=1.8,!=1.8.1,<3.0.0,>=1.7.4 in /usr/local/lib/python3.10/dist-packages (from spacy<4.1.0,>=3.5.0->spacy-transformers) (2.9.2)\n",
            "Requirement already satisfied: jinja2 in /usr/local/lib/python3.10/dist-packages (from spacy<4.1.0,>=3.5.0->spacy-transformers) (3.1.4)\n",
            "Requirement already satisfied: setuptools in /usr/local/lib/python3.10/dist-packages (from spacy<4.1.0,>=3.5.0->spacy-transformers) (75.1.0)\n",
            "Requirement already satisfied: packaging>=20.0 in /usr/local/lib/python3.10/dist-packages (from spacy<4.1.0,>=3.5.0->spacy-transformers) (24.2)\n",
            "Requirement already satisfied: langcodes<4.0.0,>=3.2.0 in /usr/local/lib/python3.10/dist-packages (from spacy<4.1.0,>=3.5.0->spacy-transformers) (3.4.1)\n",
            "Requirement already satisfied: filelock in /usr/local/lib/python3.10/dist-packages (from torch>=1.8.0->spacy-transformers) (3.16.1)\n",
            "Requirement already satisfied: typing-extensions>=4.8.0 in /usr/local/lib/python3.10/dist-packages (from torch>=1.8.0->spacy-transformers) (4.12.2)\n",
            "Requirement already satisfied: networkx in /usr/local/lib/python3.10/dist-packages (from torch>=1.8.0->spacy-transformers) (3.4.2)\n",
            "Requirement already satisfied: fsspec in /usr/local/lib/python3.10/dist-packages (from torch>=1.8.0->spacy-transformers) (2024.10.0)\n",
            "Requirement already satisfied: sympy==1.13.1 in /usr/local/lib/python3.10/dist-packages (from torch>=1.8.0->spacy-transformers) (1.13.1)\n",
            "Requirement already satisfied: mpmath<1.4,>=1.1.0 in /usr/local/lib/python3.10/dist-packages (from sympy==1.13.1->torch>=1.8.0->spacy-transformers) (1.3.0)\n",
            "Requirement already satisfied: huggingface-hub<1.0,>=0.19.3 in /usr/local/lib/python3.10/dist-packages (from transformers<4.37.0,>=3.4.0->spacy-transformers) (0.26.2)\n",
            "Requirement already satisfied: pyyaml>=5.1 in /usr/local/lib/python3.10/dist-packages (from transformers<4.37.0,>=3.4.0->spacy-transformers) (6.0.2)\n",
            "Requirement already satisfied: regex!=2019.12.17 in /usr/local/lib/python3.10/dist-packages (from transformers<4.37.0,>=3.4.0->spacy-transformers) (2024.9.11)\n",
            "Collecting tokenizers<0.19,>=0.14 (from transformers<4.37.0,>=3.4.0->spacy-transformers)\n",
            "  Using cached tokenizers-0.15.2-cp310-cp310-manylinux_2_17_x86_64.manylinux2014_x86_64.whl.metadata (6.7 kB)\n",
            "Requirement already satisfied: safetensors>=0.3.1 in /usr/local/lib/python3.10/dist-packages (from transformers<4.37.0,>=3.4.0->spacy-transformers) (0.4.5)\n",
            "Requirement already satisfied: language-data>=1.2 in /usr/local/lib/python3.10/dist-packages (from langcodes<4.0.0,>=3.2.0->spacy<4.1.0,>=3.5.0->spacy-transformers) (1.2.0)\n",
            "Requirement already satisfied: annotated-types>=0.6.0 in /usr/local/lib/python3.10/dist-packages (from pydantic!=1.8,!=1.8.1,<3.0.0,>=1.7.4->spacy<4.1.0,>=3.5.0->spacy-transformers) (0.7.0)\n",
            "Requirement already satisfied: pydantic-core==2.23.4 in /usr/local/lib/python3.10/dist-packages (from pydantic!=1.8,!=1.8.1,<3.0.0,>=1.7.4->spacy<4.1.0,>=3.5.0->spacy-transformers) (2.23.4)\n",
            "Requirement already satisfied: charset-normalizer<4,>=2 in /usr/local/lib/python3.10/dist-packages (from requests<3.0.0,>=2.13.0->spacy<4.1.0,>=3.5.0->spacy-transformers) (3.4.0)\n",
            "Requirement already satisfied: idna<4,>=2.5 in /usr/local/lib/python3.10/dist-packages (from requests<3.0.0,>=2.13.0->spacy<4.1.0,>=3.5.0->spacy-transformers) (3.10)\n",
            "Requirement already satisfied: urllib3<3,>=1.21.1 in /usr/local/lib/python3.10/dist-packages (from requests<3.0.0,>=2.13.0->spacy<4.1.0,>=3.5.0->spacy-transformers) (2.2.3)\n",
            "Requirement already satisfied: certifi>=2017.4.17 in /usr/local/lib/python3.10/dist-packages (from requests<3.0.0,>=2.13.0->spacy<4.1.0,>=3.5.0->spacy-transformers) (2024.8.30)\n",
            "Requirement already satisfied: blis<0.8.0,>=0.7.8 in /usr/local/lib/python3.10/dist-packages (from thinc<8.3.0,>=8.2.2->spacy<4.1.0,>=3.5.0->spacy-transformers) (0.7.11)\n",
            "Requirement already satisfied: confection<1.0.0,>=0.0.1 in /usr/local/lib/python3.10/dist-packages (from thinc<8.3.0,>=8.2.2->spacy<4.1.0,>=3.5.0->spacy-transformers) (0.1.5)\n",
            "Requirement already satisfied: click>=8.0.0 in /usr/local/lib/python3.10/dist-packages (from typer<1.0.0,>=0.3.0->spacy<4.1.0,>=3.5.0->spacy-transformers) (8.1.7)\n",
            "Requirement already satisfied: shellingham>=1.3.0 in /usr/local/lib/python3.10/dist-packages (from typer<1.0.0,>=0.3.0->spacy<4.1.0,>=3.5.0->spacy-transformers) (1.5.4)\n",
            "Requirement already satisfied: rich>=10.11.0 in /usr/local/lib/python3.10/dist-packages (from typer<1.0.0,>=0.3.0->spacy<4.1.0,>=3.5.0->spacy-transformers) (13.9.4)\n",
            "Requirement already satisfied: cloudpathlib<1.0.0,>=0.7.0 in /usr/local/lib/python3.10/dist-packages (from weasel<0.5.0,>=0.1.0->spacy<4.1.0,>=3.5.0->spacy-transformers) (0.20.0)\n",
            "Requirement already satisfied: smart-open<8.0.0,>=5.2.1 in /usr/local/lib/python3.10/dist-packages (from weasel<0.5.0,>=0.1.0->spacy<4.1.0,>=3.5.0->spacy-transformers) (7.0.5)\n",
            "Requirement already satisfied: MarkupSafe>=2.0 in /usr/local/lib/python3.10/dist-packages (from jinja2->spacy<4.1.0,>=3.5.0->spacy-transformers) (3.0.2)\n",
            "Requirement already satisfied: marisa-trie>=0.7.7 in /usr/local/lib/python3.10/dist-packages (from language-data>=1.2->langcodes<4.0.0,>=3.2.0->spacy<4.1.0,>=3.5.0->spacy-transformers) (1.2.1)\n",
            "Requirement already satisfied: markdown-it-py>=2.2.0 in /usr/local/lib/python3.10/dist-packages (from rich>=10.11.0->typer<1.0.0,>=0.3.0->spacy<4.1.0,>=3.5.0->spacy-transformers) (3.0.0)\n",
            "Requirement already satisfied: pygments<3.0.0,>=2.13.0 in /usr/local/lib/python3.10/dist-packages (from rich>=10.11.0->typer<1.0.0,>=0.3.0->spacy<4.1.0,>=3.5.0->spacy-transformers) (2.18.0)\n",
            "Requirement already satisfied: wrapt in /usr/local/lib/python3.10/dist-packages (from smart-open<8.0.0,>=5.2.1->weasel<0.5.0,>=0.1.0->spacy<4.1.0,>=3.5.0->spacy-transformers) (1.16.0)\n",
            "Requirement already satisfied: mdurl~=0.1 in /usr/local/lib/python3.10/dist-packages (from markdown-it-py>=2.2.0->rich>=10.11.0->typer<1.0.0,>=0.3.0->spacy<4.1.0,>=3.5.0->spacy-transformers) (0.1.2)\n",
            "Using cached transformers-4.36.2-py3-none-any.whl (8.2 MB)\n",
            "Using cached tokenizers-0.15.2-cp310-cp310-manylinux_2_17_x86_64.manylinux2014_x86_64.whl (3.6 MB)\n",
            "Installing collected packages: tokenizers, transformers\n",
            "  Attempting uninstall: tokenizers\n",
            "    Found existing installation: tokenizers 0.20.3\n",
            "    Uninstalling tokenizers-0.20.3:\n",
            "      Successfully uninstalled tokenizers-0.20.3\n",
            "  Attempting uninstall: transformers\n",
            "    Found existing installation: transformers 4.46.3\n",
            "    Uninstalling transformers-4.46.3:\n",
            "      Successfully uninstalled transformers-4.46.3\n",
            "\u001b[31mERROR: pip's dependency resolver does not currently take into account all the packages that are installed. This behaviour is the source of the following dependency conflicts.\n",
            "sentence-transformers 3.3.1 requires transformers<5.0.0,>=4.41.0, but you have transformers 4.36.2 which is incompatible.\u001b[0m\u001b[31m\n",
            "\u001b[0mSuccessfully installed tokenizers-0.15.2 transformers-4.36.2\n",
            "Requirement already satisfied: matplotlib in /usr/local/lib/python3.10/dist-packages (3.8.0)\n",
            "Requirement already satisfied: seaborn in /usr/local/lib/python3.10/dist-packages (0.13.2)\n",
            "Requirement already satisfied: peft in /usr/local/lib/python3.10/dist-packages (0.13.2)\n",
            "Requirement already satisfied: contourpy>=1.0.1 in /usr/local/lib/python3.10/dist-packages (from matplotlib) (1.3.1)\n",
            "Requirement already satisfied: cycler>=0.10 in /usr/local/lib/python3.10/dist-packages (from matplotlib) (0.12.1)\n",
            "Requirement already satisfied: fonttools>=4.22.0 in /usr/local/lib/python3.10/dist-packages (from matplotlib) (4.55.0)\n",
            "Requirement already satisfied: kiwisolver>=1.0.1 in /usr/local/lib/python3.10/dist-packages (from matplotlib) (1.4.7)\n",
            "Requirement already satisfied: numpy<2,>=1.21 in /usr/local/lib/python3.10/dist-packages (from matplotlib) (1.26.4)\n",
            "Requirement already satisfied: packaging>=20.0 in /usr/local/lib/python3.10/dist-packages (from matplotlib) (24.2)\n",
            "Requirement already satisfied: pillow>=6.2.0 in /usr/local/lib/python3.10/dist-packages (from matplotlib) (11.0.0)\n",
            "Requirement already satisfied: pyparsing>=2.3.1 in /usr/local/lib/python3.10/dist-packages (from matplotlib) (3.2.0)\n",
            "Requirement already satisfied: python-dateutil>=2.7 in /usr/local/lib/python3.10/dist-packages (from matplotlib) (2.8.2)\n",
            "Requirement already satisfied: pandas>=1.2 in /usr/local/lib/python3.10/dist-packages (from seaborn) (2.2.2)\n",
            "Requirement already satisfied: psutil in /usr/local/lib/python3.10/dist-packages (from peft) (5.9.5)\n",
            "Requirement already satisfied: pyyaml in /usr/local/lib/python3.10/dist-packages (from peft) (6.0.2)\n",
            "Requirement already satisfied: torch>=1.13.0 in /usr/local/lib/python3.10/dist-packages (from peft) (2.5.1+cu121)\n",
            "Requirement already satisfied: transformers in /usr/local/lib/python3.10/dist-packages (from peft) (4.36.2)\n",
            "Requirement already satisfied: tqdm in /usr/local/lib/python3.10/dist-packages (from peft) (4.66.6)\n",
            "Requirement already satisfied: accelerate>=0.21.0 in /usr/local/lib/python3.10/dist-packages (from peft) (1.1.1)\n",
            "Requirement already satisfied: safetensors in /usr/local/lib/python3.10/dist-packages (from peft) (0.4.5)\n",
            "Requirement already satisfied: huggingface-hub>=0.17.0 in /usr/local/lib/python3.10/dist-packages (from peft) (0.26.2)\n",
            "Requirement already satisfied: filelock in /usr/local/lib/python3.10/dist-packages (from huggingface-hub>=0.17.0->peft) (3.16.1)\n",
            "Requirement already satisfied: fsspec>=2023.5.0 in /usr/local/lib/python3.10/dist-packages (from huggingface-hub>=0.17.0->peft) (2024.10.0)\n",
            "Requirement already satisfied: requests in /usr/local/lib/python3.10/dist-packages (from huggingface-hub>=0.17.0->peft) (2.32.3)\n",
            "Requirement already satisfied: typing-extensions>=3.7.4.3 in /usr/local/lib/python3.10/dist-packages (from huggingface-hub>=0.17.0->peft) (4.12.2)\n",
            "Requirement already satisfied: pytz>=2020.1 in /usr/local/lib/python3.10/dist-packages (from pandas>=1.2->seaborn) (2024.2)\n",
            "Requirement already satisfied: tzdata>=2022.7 in /usr/local/lib/python3.10/dist-packages (from pandas>=1.2->seaborn) (2024.2)\n",
            "Requirement already satisfied: six>=1.5 in /usr/local/lib/python3.10/dist-packages (from python-dateutil>=2.7->matplotlib) (1.16.0)\n",
            "Requirement already satisfied: networkx in /usr/local/lib/python3.10/dist-packages (from torch>=1.13.0->peft) (3.4.2)\n",
            "Requirement already satisfied: jinja2 in /usr/local/lib/python3.10/dist-packages (from torch>=1.13.0->peft) (3.1.4)\n",
            "Requirement already satisfied: sympy==1.13.1 in /usr/local/lib/python3.10/dist-packages (from torch>=1.13.0->peft) (1.13.1)\n",
            "Requirement already satisfied: mpmath<1.4,>=1.1.0 in /usr/local/lib/python3.10/dist-packages (from sympy==1.13.1->torch>=1.13.0->peft) (1.3.0)\n",
            "Requirement already satisfied: regex!=2019.12.17 in /usr/local/lib/python3.10/dist-packages (from transformers->peft) (2024.9.11)\n",
            "Requirement already satisfied: tokenizers<0.19,>=0.14 in /usr/local/lib/python3.10/dist-packages (from transformers->peft) (0.15.2)\n",
            "Requirement already satisfied: MarkupSafe>=2.0 in /usr/local/lib/python3.10/dist-packages (from jinja2->torch>=1.13.0->peft) (3.0.2)\n",
            "Requirement already satisfied: charset-normalizer<4,>=2 in /usr/local/lib/python3.10/dist-packages (from requests->huggingface-hub>=0.17.0->peft) (3.4.0)\n",
            "Requirement already satisfied: idna<4,>=2.5 in /usr/local/lib/python3.10/dist-packages (from requests->huggingface-hub>=0.17.0->peft) (3.10)\n",
            "Requirement already satisfied: urllib3<3,>=1.21.1 in /usr/local/lib/python3.10/dist-packages (from requests->huggingface-hub>=0.17.0->peft) (2.2.3)\n",
            "Requirement already satisfied: certifi>=2017.4.17 in /usr/local/lib/python3.10/dist-packages (from requests->huggingface-hub>=0.17.0->peft) (2024.8.30)\n",
            "/usr/local/lib/python3.10/dist-packages/transformers/utils/generic.py:441: FutureWarning: `torch.utils._pytree._register_pytree_node` is deprecated. Please use `torch.utils._pytree.register_pytree_node` instead.\n",
            "  _torch_pytree._register_pytree_node(\n",
            "Collecting en-core-web-trf==3.7.3\n",
            "  Downloading https://github.com/explosion/spacy-models/releases/download/en_core_web_trf-3.7.3/en_core_web_trf-3.7.3-py3-none-any.whl (457.4 MB)\n",
            "\u001b[2K     \u001b[90m━━━━━━━━━━━━━━━━━━━━━━━━━━━━━━━━━━━━━━━━\u001b[0m \u001b[32m457.4/457.4 MB\u001b[0m \u001b[31m1.7 MB/s\u001b[0m eta \u001b[36m0:00:00\u001b[0m\n",
            "\u001b[?25hRequirement already satisfied: spacy<3.8.0,>=3.7.2 in /usr/local/lib/python3.10/dist-packages (from en-core-web-trf==3.7.3) (3.7.5)\n",
            "Requirement already satisfied: spacy-curated-transformers<0.3.0,>=0.2.0 in /usr/local/lib/python3.10/dist-packages (from en-core-web-trf==3.7.3) (0.2.2)\n",
            "Requirement already satisfied: spacy-legacy<3.1.0,>=3.0.11 in /usr/local/lib/python3.10/dist-packages (from spacy<3.8.0,>=3.7.2->en-core-web-trf==3.7.3) (3.0.12)\n",
            "Requirement already satisfied: spacy-loggers<2.0.0,>=1.0.0 in /usr/local/lib/python3.10/dist-packages (from spacy<3.8.0,>=3.7.2->en-core-web-trf==3.7.3) (1.0.5)\n",
            "Requirement already satisfied: murmurhash<1.1.0,>=0.28.0 in /usr/local/lib/python3.10/dist-packages (from spacy<3.8.0,>=3.7.2->en-core-web-trf==3.7.3) (1.0.10)\n",
            "Requirement already satisfied: cymem<2.1.0,>=2.0.2 in /usr/local/lib/python3.10/dist-packages (from spacy<3.8.0,>=3.7.2->en-core-web-trf==3.7.3) (2.0.8)\n",
            "Requirement already satisfied: preshed<3.1.0,>=3.0.2 in /usr/local/lib/python3.10/dist-packages (from spacy<3.8.0,>=3.7.2->en-core-web-trf==3.7.3) (3.0.9)\n",
            "Requirement already satisfied: thinc<8.3.0,>=8.2.2 in /usr/local/lib/python3.10/dist-packages (from spacy<3.8.0,>=3.7.2->en-core-web-trf==3.7.3) (8.2.5)\n",
            "Requirement already satisfied: wasabi<1.2.0,>=0.9.1 in /usr/local/lib/python3.10/dist-packages (from spacy<3.8.0,>=3.7.2->en-core-web-trf==3.7.3) (1.1.3)\n",
            "Requirement already satisfied: srsly<3.0.0,>=2.4.3 in /usr/local/lib/python3.10/dist-packages (from spacy<3.8.0,>=3.7.2->en-core-web-trf==3.7.3) (2.4.8)\n",
            "Requirement already satisfied: catalogue<2.1.0,>=2.0.6 in /usr/local/lib/python3.10/dist-packages (from spacy<3.8.0,>=3.7.2->en-core-web-trf==3.7.3) (2.0.10)\n",
            "Requirement already satisfied: weasel<0.5.0,>=0.1.0 in /usr/local/lib/python3.10/dist-packages (from spacy<3.8.0,>=3.7.2->en-core-web-trf==3.7.3) (0.4.1)\n",
            "Requirement already satisfied: typer<1.0.0,>=0.3.0 in /usr/local/lib/python3.10/dist-packages (from spacy<3.8.0,>=3.7.2->en-core-web-trf==3.7.3) (0.13.0)\n",
            "Requirement already satisfied: tqdm<5.0.0,>=4.38.0 in /usr/local/lib/python3.10/dist-packages (from spacy<3.8.0,>=3.7.2->en-core-web-trf==3.7.3) (4.66.6)\n",
            "Requirement already satisfied: requests<3.0.0,>=2.13.0 in /usr/local/lib/python3.10/dist-packages (from spacy<3.8.0,>=3.7.2->en-core-web-trf==3.7.3) (2.32.3)\n",
            "Requirement already satisfied: pydantic!=1.8,!=1.8.1,<3.0.0,>=1.7.4 in /usr/local/lib/python3.10/dist-packages (from spacy<3.8.0,>=3.7.2->en-core-web-trf==3.7.3) (2.9.2)\n",
            "Requirement already satisfied: jinja2 in /usr/local/lib/python3.10/dist-packages (from spacy<3.8.0,>=3.7.2->en-core-web-trf==3.7.3) (3.1.4)\n",
            "Requirement already satisfied: setuptools in /usr/local/lib/python3.10/dist-packages (from spacy<3.8.0,>=3.7.2->en-core-web-trf==3.7.3) (75.1.0)\n",
            "Requirement already satisfied: packaging>=20.0 in /usr/local/lib/python3.10/dist-packages (from spacy<3.8.0,>=3.7.2->en-core-web-trf==3.7.3) (24.2)\n",
            "Requirement already satisfied: langcodes<4.0.0,>=3.2.0 in /usr/local/lib/python3.10/dist-packages (from spacy<3.8.0,>=3.7.2->en-core-web-trf==3.7.3) (3.4.1)\n",
            "Requirement already satisfied: numpy>=1.19.0 in /usr/local/lib/python3.10/dist-packages (from spacy<3.8.0,>=3.7.2->en-core-web-trf==3.7.3) (1.26.4)\n",
            "Requirement already satisfied: curated-transformers<0.2.0,>=0.1.0 in /usr/local/lib/python3.10/dist-packages (from spacy-curated-transformers<0.3.0,>=0.2.0->en-core-web-trf==3.7.3) (0.1.1)\n",
            "Requirement already satisfied: curated-tokenizers<0.1.0,>=0.0.9 in /usr/local/lib/python3.10/dist-packages (from spacy-curated-transformers<0.3.0,>=0.2.0->en-core-web-trf==3.7.3) (0.0.9)\n",
            "Requirement already satisfied: torch>=1.12.0 in /usr/local/lib/python3.10/dist-packages (from spacy-curated-transformers<0.3.0,>=0.2.0->en-core-web-trf==3.7.3) (2.5.1+cu121)\n",
            "Requirement already satisfied: regex>=2022 in /usr/local/lib/python3.10/dist-packages (from curated-tokenizers<0.1.0,>=0.0.9->spacy-curated-transformers<0.3.0,>=0.2.0->en-core-web-trf==3.7.3) (2024.9.11)\n",
            "Requirement already satisfied: language-data>=1.2 in /usr/local/lib/python3.10/dist-packages (from langcodes<4.0.0,>=3.2.0->spacy<3.8.0,>=3.7.2->en-core-web-trf==3.7.3) (1.2.0)\n",
            "Requirement already satisfied: annotated-types>=0.6.0 in /usr/local/lib/python3.10/dist-packages (from pydantic!=1.8,!=1.8.1,<3.0.0,>=1.7.4->spacy<3.8.0,>=3.7.2->en-core-web-trf==3.7.3) (0.7.0)\n",
            "Requirement already satisfied: pydantic-core==2.23.4 in /usr/local/lib/python3.10/dist-packages (from pydantic!=1.8,!=1.8.1,<3.0.0,>=1.7.4->spacy<3.8.0,>=3.7.2->en-core-web-trf==3.7.3) (2.23.4)\n",
            "Requirement already satisfied: typing-extensions>=4.6.1 in /usr/local/lib/python3.10/dist-packages (from pydantic!=1.8,!=1.8.1,<3.0.0,>=1.7.4->spacy<3.8.0,>=3.7.2->en-core-web-trf==3.7.3) (4.12.2)\n",
            "Requirement already satisfied: charset-normalizer<4,>=2 in /usr/local/lib/python3.10/dist-packages (from requests<3.0.0,>=2.13.0->spacy<3.8.0,>=3.7.2->en-core-web-trf==3.7.3) (3.4.0)\n",
            "Requirement already satisfied: idna<4,>=2.5 in /usr/local/lib/python3.10/dist-packages (from requests<3.0.0,>=2.13.0->spacy<3.8.0,>=3.7.2->en-core-web-trf==3.7.3) (3.10)\n",
            "Requirement already satisfied: urllib3<3,>=1.21.1 in /usr/local/lib/python3.10/dist-packages (from requests<3.0.0,>=2.13.0->spacy<3.8.0,>=3.7.2->en-core-web-trf==3.7.3) (2.2.3)\n",
            "Requirement already satisfied: certifi>=2017.4.17 in /usr/local/lib/python3.10/dist-packages (from requests<3.0.0,>=2.13.0->spacy<3.8.0,>=3.7.2->en-core-web-trf==3.7.3) (2024.8.30)\n",
            "Requirement already satisfied: blis<0.8.0,>=0.7.8 in /usr/local/lib/python3.10/dist-packages (from thinc<8.3.0,>=8.2.2->spacy<3.8.0,>=3.7.2->en-core-web-trf==3.7.3) (0.7.11)\n",
            "Requirement already satisfied: confection<1.0.0,>=0.0.1 in /usr/local/lib/python3.10/dist-packages (from thinc<8.3.0,>=8.2.2->spacy<3.8.0,>=3.7.2->en-core-web-trf==3.7.3) (0.1.5)\n",
            "Requirement already satisfied: filelock in /usr/local/lib/python3.10/dist-packages (from torch>=1.12.0->spacy-curated-transformers<0.3.0,>=0.2.0->en-core-web-trf==3.7.3) (3.16.1)\n",
            "Requirement already satisfied: networkx in /usr/local/lib/python3.10/dist-packages (from torch>=1.12.0->spacy-curated-transformers<0.3.0,>=0.2.0->en-core-web-trf==3.7.3) (3.4.2)\n",
            "Requirement already satisfied: fsspec in /usr/local/lib/python3.10/dist-packages (from torch>=1.12.0->spacy-curated-transformers<0.3.0,>=0.2.0->en-core-web-trf==3.7.3) (2024.10.0)\n",
            "Requirement already satisfied: sympy==1.13.1 in /usr/local/lib/python3.10/dist-packages (from torch>=1.12.0->spacy-curated-transformers<0.3.0,>=0.2.0->en-core-web-trf==3.7.3) (1.13.1)\n",
            "Requirement already satisfied: mpmath<1.4,>=1.1.0 in /usr/local/lib/python3.10/dist-packages (from sympy==1.13.1->torch>=1.12.0->spacy-curated-transformers<0.3.0,>=0.2.0->en-core-web-trf==3.7.3) (1.3.0)\n",
            "Requirement already satisfied: click>=8.0.0 in /usr/local/lib/python3.10/dist-packages (from typer<1.0.0,>=0.3.0->spacy<3.8.0,>=3.7.2->en-core-web-trf==3.7.3) (8.1.7)\n",
            "Requirement already satisfied: shellingham>=1.3.0 in /usr/local/lib/python3.10/dist-packages (from typer<1.0.0,>=0.3.0->spacy<3.8.0,>=3.7.2->en-core-web-trf==3.7.3) (1.5.4)\n",
            "Requirement already satisfied: rich>=10.11.0 in /usr/local/lib/python3.10/dist-packages (from typer<1.0.0,>=0.3.0->spacy<3.8.0,>=3.7.2->en-core-web-trf==3.7.3) (13.9.4)\n",
            "Requirement already satisfied: cloudpathlib<1.0.0,>=0.7.0 in /usr/local/lib/python3.10/dist-packages (from weasel<0.5.0,>=0.1.0->spacy<3.8.0,>=3.7.2->en-core-web-trf==3.7.3) (0.20.0)\n",
            "Requirement already satisfied: smart-open<8.0.0,>=5.2.1 in /usr/local/lib/python3.10/dist-packages (from weasel<0.5.0,>=0.1.0->spacy<3.8.0,>=3.7.2->en-core-web-trf==3.7.3) (7.0.5)\n",
            "Requirement already satisfied: MarkupSafe>=2.0 in /usr/local/lib/python3.10/dist-packages (from jinja2->spacy<3.8.0,>=3.7.2->en-core-web-trf==3.7.3) (3.0.2)\n",
            "Requirement already satisfied: marisa-trie>=0.7.7 in /usr/local/lib/python3.10/dist-packages (from language-data>=1.2->langcodes<4.0.0,>=3.2.0->spacy<3.8.0,>=3.7.2->en-core-web-trf==3.7.3) (1.2.1)\n",
            "Requirement already satisfied: markdown-it-py>=2.2.0 in /usr/local/lib/python3.10/dist-packages (from rich>=10.11.0->typer<1.0.0,>=0.3.0->spacy<3.8.0,>=3.7.2->en-core-web-trf==3.7.3) (3.0.0)\n",
            "Requirement already satisfied: pygments<3.0.0,>=2.13.0 in /usr/local/lib/python3.10/dist-packages (from rich>=10.11.0->typer<1.0.0,>=0.3.0->spacy<3.8.0,>=3.7.2->en-core-web-trf==3.7.3) (2.18.0)\n",
            "Requirement already satisfied: wrapt in /usr/local/lib/python3.10/dist-packages (from smart-open<8.0.0,>=5.2.1->weasel<0.5.0,>=0.1.0->spacy<3.8.0,>=3.7.2->en-core-web-trf==3.7.3) (1.16.0)\n",
            "Requirement already satisfied: mdurl~=0.1 in /usr/local/lib/python3.10/dist-packages (from markdown-it-py>=2.2.0->rich>=10.11.0->typer<1.0.0,>=0.3.0->spacy<3.8.0,>=3.7.2->en-core-web-trf==3.7.3) (0.1.2)\n",
            "\u001b[38;5;2m✔ Download and installation successful\u001b[0m\n",
            "You can now load the package via spacy.load('en_core_web_trf')\n",
            "\u001b[38;5;3m⚠ Restart to reload dependencies\u001b[0m\n",
            "If you are in a Jupyter or Colab notebook, you may need to restart Python in\n",
            "order to load all the package's dependencies. You can do this by selecting the\n",
            "'Restart kernel' or 'Restart runtime' option.\n",
            "Requirement already satisfied: transformers in /usr/local/lib/python3.10/dist-packages (4.36.2)\n",
            "Collecting transformers\n",
            "  Using cached transformers-4.46.3-py3-none-any.whl.metadata (44 kB)\n",
            "Requirement already satisfied: filelock in /usr/local/lib/python3.10/dist-packages (from transformers) (3.16.1)\n",
            "Requirement already satisfied: huggingface-hub<1.0,>=0.23.2 in /usr/local/lib/python3.10/dist-packages (from transformers) (0.26.2)\n",
            "Requirement already satisfied: numpy>=1.17 in /usr/local/lib/python3.10/dist-packages (from transformers) (1.26.4)\n",
            "Requirement already satisfied: packaging>=20.0 in /usr/local/lib/python3.10/dist-packages (from transformers) (24.2)\n",
            "Requirement already satisfied: pyyaml>=5.1 in /usr/local/lib/python3.10/dist-packages (from transformers) (6.0.2)\n",
            "Requirement already satisfied: regex!=2019.12.17 in /usr/local/lib/python3.10/dist-packages (from transformers) (2024.9.11)\n",
            "Requirement already satisfied: requests in /usr/local/lib/python3.10/dist-packages (from transformers) (2.32.3)\n",
            "Collecting tokenizers<0.21,>=0.20 (from transformers)\n",
            "  Using cached tokenizers-0.20.3-cp310-cp310-manylinux_2_17_x86_64.manylinux2014_x86_64.whl.metadata (6.7 kB)\n",
            "Requirement already satisfied: safetensors>=0.4.1 in /usr/local/lib/python3.10/dist-packages (from transformers) (0.4.5)\n",
            "Requirement already satisfied: tqdm>=4.27 in /usr/local/lib/python3.10/dist-packages (from transformers) (4.66.6)\n",
            "Requirement already satisfied: fsspec>=2023.5.0 in /usr/local/lib/python3.10/dist-packages (from huggingface-hub<1.0,>=0.23.2->transformers) (2024.10.0)\n",
            "Requirement already satisfied: typing-extensions>=3.7.4.3 in /usr/local/lib/python3.10/dist-packages (from huggingface-hub<1.0,>=0.23.2->transformers) (4.12.2)\n",
            "Requirement already satisfied: charset-normalizer<4,>=2 in /usr/local/lib/python3.10/dist-packages (from requests->transformers) (3.4.0)\n",
            "Requirement already satisfied: idna<4,>=2.5 in /usr/local/lib/python3.10/dist-packages (from requests->transformers) (3.10)\n",
            "Requirement already satisfied: urllib3<3,>=1.21.1 in /usr/local/lib/python3.10/dist-packages (from requests->transformers) (2.2.3)\n",
            "Requirement already satisfied: certifi>=2017.4.17 in /usr/local/lib/python3.10/dist-packages (from requests->transformers) (2024.8.30)\n",
            "Using cached transformers-4.46.3-py3-none-any.whl (10.0 MB)\n",
            "Using cached tokenizers-0.20.3-cp310-cp310-manylinux_2_17_x86_64.manylinux2014_x86_64.whl (3.0 MB)\n",
            "Installing collected packages: tokenizers, transformers\n",
            "  Attempting uninstall: tokenizers\n",
            "    Found existing installation: tokenizers 0.15.2\n",
            "    Uninstalling tokenizers-0.15.2:\n",
            "      Successfully uninstalled tokenizers-0.15.2\n",
            "  Attempting uninstall: transformers\n",
            "    Found existing installation: transformers 4.36.2\n",
            "    Uninstalling transformers-4.36.2:\n",
            "      Successfully uninstalled transformers-4.36.2\n",
            "\u001b[31mERROR: pip's dependency resolver does not currently take into account all the packages that are installed. This behaviour is the source of the following dependency conflicts.\n",
            "spacy-transformers 1.3.5 requires transformers<4.37.0,>=3.4.0, but you have transformers 4.46.3 which is incompatible.\u001b[0m\u001b[31m\n",
            "\u001b[0mSuccessfully installed tokenizers-0.20.3 transformers-4.46.3\n",
            "Requirement already satisfied: sentence-transformers in /usr/local/lib/python3.10/dist-packages (3.3.1)\n",
            "Requirement already satisfied: transformers<5.0.0,>=4.41.0 in /usr/local/lib/python3.10/dist-packages (from sentence-transformers) (4.46.3)\n",
            "Requirement already satisfied: tqdm in /usr/local/lib/python3.10/dist-packages (from sentence-transformers) (4.66.6)\n",
            "Requirement already satisfied: torch>=1.11.0 in /usr/local/lib/python3.10/dist-packages (from sentence-transformers) (2.5.1+cu121)\n",
            "Requirement already satisfied: scikit-learn in /usr/local/lib/python3.10/dist-packages (from sentence-transformers) (1.5.2)\n",
            "Requirement already satisfied: scipy in /usr/local/lib/python3.10/dist-packages (from sentence-transformers) (1.13.1)\n",
            "Requirement already satisfied: huggingface-hub>=0.20.0 in /usr/local/lib/python3.10/dist-packages (from sentence-transformers) (0.26.2)\n",
            "Requirement already satisfied: Pillow in /usr/local/lib/python3.10/dist-packages (from sentence-transformers) (11.0.0)\n",
            "Requirement already satisfied: filelock in /usr/local/lib/python3.10/dist-packages (from huggingface-hub>=0.20.0->sentence-transformers) (3.16.1)\n",
            "Requirement already satisfied: fsspec>=2023.5.0 in /usr/local/lib/python3.10/dist-packages (from huggingface-hub>=0.20.0->sentence-transformers) (2024.10.0)\n",
            "Requirement already satisfied: packaging>=20.9 in /usr/local/lib/python3.10/dist-packages (from huggingface-hub>=0.20.0->sentence-transformers) (24.2)\n",
            "Requirement already satisfied: pyyaml>=5.1 in /usr/local/lib/python3.10/dist-packages (from huggingface-hub>=0.20.0->sentence-transformers) (6.0.2)\n",
            "Requirement already satisfied: requests in /usr/local/lib/python3.10/dist-packages (from huggingface-hub>=0.20.0->sentence-transformers) (2.32.3)\n",
            "Requirement already satisfied: typing-extensions>=3.7.4.3 in /usr/local/lib/python3.10/dist-packages (from huggingface-hub>=0.20.0->sentence-transformers) (4.12.2)\n",
            "Requirement already satisfied: networkx in /usr/local/lib/python3.10/dist-packages (from torch>=1.11.0->sentence-transformers) (3.4.2)\n",
            "Requirement already satisfied: jinja2 in /usr/local/lib/python3.10/dist-packages (from torch>=1.11.0->sentence-transformers) (3.1.4)\n",
            "Requirement already satisfied: sympy==1.13.1 in /usr/local/lib/python3.10/dist-packages (from torch>=1.11.0->sentence-transformers) (1.13.1)\n",
            "Requirement already satisfied: mpmath<1.4,>=1.1.0 in /usr/local/lib/python3.10/dist-packages (from sympy==1.13.1->torch>=1.11.0->sentence-transformers) (1.3.0)\n",
            "Requirement already satisfied: numpy>=1.17 in /usr/local/lib/python3.10/dist-packages (from transformers<5.0.0,>=4.41.0->sentence-transformers) (1.26.4)\n",
            "Requirement already satisfied: regex!=2019.12.17 in /usr/local/lib/python3.10/dist-packages (from transformers<5.0.0,>=4.41.0->sentence-transformers) (2024.9.11)\n",
            "Requirement already satisfied: tokenizers<0.21,>=0.20 in /usr/local/lib/python3.10/dist-packages (from transformers<5.0.0,>=4.41.0->sentence-transformers) (0.20.3)\n",
            "Requirement already satisfied: safetensors>=0.4.1 in /usr/local/lib/python3.10/dist-packages (from transformers<5.0.0,>=4.41.0->sentence-transformers) (0.4.5)\n",
            "Requirement already satisfied: joblib>=1.2.0 in /usr/local/lib/python3.10/dist-packages (from scikit-learn->sentence-transformers) (1.4.2)\n",
            "Requirement already satisfied: threadpoolctl>=3.1.0 in /usr/local/lib/python3.10/dist-packages (from scikit-learn->sentence-transformers) (3.5.0)\n",
            "Requirement already satisfied: MarkupSafe>=2.0 in /usr/local/lib/python3.10/dist-packages (from jinja2->torch>=1.11.0->sentence-transformers) (3.0.2)\n",
            "Requirement already satisfied: charset-normalizer<4,>=2 in /usr/local/lib/python3.10/dist-packages (from requests->huggingface-hub>=0.20.0->sentence-transformers) (3.4.0)\n",
            "Requirement already satisfied: idna<4,>=2.5 in /usr/local/lib/python3.10/dist-packages (from requests->huggingface-hub>=0.20.0->sentence-transformers) (3.10)\n",
            "Requirement already satisfied: urllib3<3,>=1.21.1 in /usr/local/lib/python3.10/dist-packages (from requests->huggingface-hub>=0.20.0->sentence-transformers) (2.2.3)\n",
            "Requirement already satisfied: certifi>=2017.4.17 in /usr/local/lib/python3.10/dist-packages (from requests->huggingface-hub>=0.20.0->sentence-transformers) (2024.8.30)\n"
          ]
        }
      ],
      "source": [
        "\n",
        "!pip install transformers\n",
        "!pip install nltk\n",
        "!pip install textblob\n",
        "!pip install textstat\n",
        "!pip install language-tool-python\n",
        "!pip install spacy\n",
        "!pip install spacy-transformers\n",
        "!pip install matplotlib seaborn peft\n",
        "!python -m spacy download en_core_web_trf\n",
        "!pip install --upgrade transformers\n",
        "!pip install --upgrade sentence-transformers"
      ]
    },
    {
      "cell_type": "markdown",
      "id": "1a37b5b8",
      "metadata": {
        "id": "1a37b5b8"
      },
      "source": [
        "\n",
        "## Importing Libraries\n",
        "\n",
        "This section loads all the libraries required for our analysis.\n",
        "- **NLTK** for traditional sentiment analysis.\n",
        "- **SpaCy** for advanced grammar checking.\n",
        "- **Transformers** from Hugging Face for modern NLP models (BERT, BART).\n",
        "- **Matplotlib and Seaborn** for visualizing tone trends.\n"
      ]
    },
    {
      "cell_type": "code",
      "execution_count": null,
      "id": "004c1573",
      "metadata": {
        "colab": {
          "base_uri": "https://localhost:8080/"
        },
        "id": "004c1573",
        "outputId": "142153c7-6141-45cb-b7e3-f29a3915ccc8"
      },
      "outputs": [
        {
          "output_type": "stream",
          "name": "stderr",
          "text": [
            "/usr/local/lib/python3.10/dist-packages/huggingface_hub/utils/_auth.py:94: UserWarning: \n",
            "The secret `HF_TOKEN` does not exist in your Colab secrets.\n",
            "To authenticate with the Hugging Face Hub, create a token in your settings tab (https://huggingface.co/settings/tokens), set it as secret in your Google Colab and restart your session.\n",
            "You will be able to reuse this secret in all of your notebooks.\n",
            "Please note that authentication is recommended but still optional to access public models or datasets.\n",
            "  warnings.warn(\n",
            "Some weights of T5ForSequenceClassification were not initialized from the model checkpoint at mrm8488/t5-base-finetuned-sarcasm-twitter and are newly initialized: ['classification_head.dense.bias', 'classification_head.dense.weight', 'classification_head.out_proj.bias', 'classification_head.out_proj.weight']\n",
            "You should probably TRAIN this model on a down-stream task to be able to use it for predictions and inference.\n",
            "You are using the default legacy behaviour of the <class 'transformers.models.t5.tokenization_t5.T5Tokenizer'>. This is expected, and simply means that the `legacy` (previous) behavior will be used so nothing changes for you. If you want to use the new behaviour, set `legacy=False`. This should only be set if you understand what it means, and thoroughly read the reason why this was added as explained in https://github.com/huggingface/transformers/pull/24565\n",
            "[nltk_data] Downloading package vader_lexicon to /root/nltk_data...\n",
            "[nltk_data]   Package vader_lexicon is already up-to-date!\n",
            "[nltk_data] Downloading package punkt to /root/nltk_data...\n",
            "[nltk_data]   Package punkt is already up-to-date!\n",
            "/usr/local/lib/python3.10/dist-packages/thinc/shims/pytorch.py:253: FutureWarning: You are using `torch.load` with `weights_only=False` (the current default value), which uses the default pickle module implicitly. It is possible to construct malicious pickle data which will execute arbitrary code during unpickling (See https://github.com/pytorch/pytorch/blob/main/SECURITY.md#untrusted-models for more details). In a future release, the default value for `weights_only` will be flipped to `True`. This limits the functions that could be executed during unpickling. Arbitrary objects will no longer be allowed to be loaded via this mode unless they are explicitly allowlisted by the user via `torch.serialization.add_safe_globals`. We recommend you start setting `weights_only=True` for any use case where you don't have full control of the loaded file. Please open an issue on GitHub for any issues related to this experimental feature.\n",
            "  model.load_state_dict(torch.load(filelike, map_location=device))\n"
          ]
        }
      ],
      "source": [
        "\n",
        "import nltk\n",
        "from textblob import TextBlob\n",
        "import language_tool_python\n",
        "import spacy\n",
        "from transformers import pipeline, AutoTokenizer, AutoModelForSequenceClassification\n",
        "import textstat\n",
        "from nltk.sentiment import SentimentIntensityAnalyzer\n",
        "import nltk\n",
        "from nltk.tokenize import sent_tokenize\n",
        "import matplotlib.pyplot as plt\n",
        "import seaborn as sns\n",
        "from peft import PeftModel, PeftConfig\n",
        "import numpy\n",
        "from collections import defaultdict\n",
        "import warnings\n",
        "\n",
        "\n",
        "warnings.filterwarnings(\"ignore\", category=UserWarning, module=\"transformers\")\n",
        "# device = 0 at end for gpu support\n",
        "emotion_pipeline = pipeline(\"text-classification\", model=\"j-hartmann/emotion-english-distilroberta-base\", device=-1)\n",
        "sentiment_pipeline = pipeline(\"sentiment-analysis\", model=\"distilbert-base-uncased-finetuned-sst-2-english\", device =-1)\n",
        "summarizer = pipeline(\"summarization\", model=\"facebook/bart-large-cnn\", device=-1)\n",
        "sarcasm_pipeline = pipeline(\"text-classification\", model=\"mrm8488/t5-base-finetuned-sarcasm-twitter\", device=-1)\n",
        "\n",
        "\n",
        "\n",
        "# Download necessary NLTK data files\n",
        "nltk.download('vader_lexicon')\n",
        "nltk.download('punkt')\n",
        "\n",
        "# Load SpaCy transformer model\n",
        "nlp = spacy.load(\"en_core_web_trf\")\n"
      ]
    },
    {
      "cell_type": "markdown",
      "source": [
        "# Example Emails File\n",
        "\n",
        "Contains the necessary code to access a google drive hosted text file containing multiple emails for use in analysis\n"
      ],
      "metadata": {
        "id": "Jloq7ti3_Vqs"
      },
      "id": "Jloq7ti3_Vqs"
    },
    {
      "cell_type": "code",
      "source": [
        "import requests\n",
        "\n",
        "# Google Drive direct download link\n",
        "url = \"https://drive.google.com/file/d/1mIqWh5pMk8cVhKtZoJ0ltuEfwyilkJwP/view?usp=sharing\"\n",
        "\n",
        "# Download the file content\n",
        "response = requests.get(url)\n",
        "example_emails = response.text\n",
        "\n",
        "# Split emails by delimiter\n",
        "emails = example_emails.split(\"==EMAIL==\")\n",
        "\n",
        "# Analyze each email\n",
        "for i, email in enumerate(emails):\n",
        "    print(f\"Email {i+1}:\\n{email.strip()}\\n\")\n"
      ],
      "metadata": {
        "id": "H-kZIfRD_eUZ"
      },
      "id": "H-kZIfRD_eUZ",
      "execution_count": null,
      "outputs": []
    },
    {
      "cell_type": "markdown",
      "source": [
        "# Sender-Sided Solutions\n",
        "## The goal of these two Methods is to provide various sender-side solutions in regards to analyzing the sentiment, tone, and sarcasm of emails being sent out in order to determine if any changes are needed."
      ],
      "metadata": {
        "id": "QLPJmHcOGc99"
      },
      "id": "QLPJmHcOGc99"
    },
    {
      "cell_type": "markdown",
      "source": [
        "# Method 1 - Tone, Sentiment, and Summary Generation\n"
      ],
      "metadata": {
        "id": "2r_P_S9PY3jU"
      },
      "id": "2r_P_S9PY3jU"
    },
    {
      "cell_type": "markdown",
      "source": [
        "### Summary of Method 1\n",
        "\n",
        "Method 1 offers a foundational approach to email tone and sentiment analysis. It primarily focuses on three key areas: basic grammar correction, sentiment classification, and summarization. The grammar checking component utilizes SpaCy’s natural language processing capabilities to make basic corrections, such as ensuring proper capitalization and structuring sentences. While it addresses common issues, the grammar analysis in this method remains relatively simple, focusing more on form rather than deeper grammatical errors.\n",
        "\n",
        "For sentiment analysis, Method 1 leverages Hugging Face’s DistilBERT model to classify the email’s tone into Positive, Neutral, and Negative categories. This approach captures the general sentiment conveyed in the email using a context-aware language model, providing insight into how the content might be perceived emotionally.\n",
        "\n",
        "Additionally, the method incorporates BART (Bidirectional and Auto-Regressive Transformers) for summarization, condensing the email into its core ideas. This summarization helps in quickly identifying the main points without needing to read through the entire text.\n",
        "\n",
        "Finally, this method visualizes sentiment trends across multiple emails, offering a simple way to track the tone over time. While Method 1 provides a strong baseline for email analysis, it lacks advanced emotional profiling and does not account for nuances like sarcasm.\n"
      ],
      "metadata": {
        "id": "gm8q90sCYs3W"
      },
      "id": "gm8q90sCYs3W"
    },
    {
      "cell_type": "markdown",
      "id": "c5130220",
      "metadata": {
        "id": "c5130220"
      },
      "source": [
        "\n",
        "## Function Definitions\n",
        "\n",
        "Here, we define the main functions for email analysis. Each function serves a specific purpose, from grammar checking to tone analysis and summarization.\n"
      ]
    },
    {
      "cell_type": "markdown",
      "id": "f6b8a730",
      "metadata": {
        "id": "f6b8a730"
      },
      "source": [
        "\n",
        "### Advanced Grammar Check\n",
        "\n",
        "This function uses the SpaCy library to perform advanced grammar checking on the email content. It works by:\n",
        "\n",
        "1. **Tokenizing the email**: Breaks the text into individual words and punctuation marks.\n",
        "2. **Identifying sentence boundaries**: Determines where each sentence starts and ends.\n",
        "3. **Correcting capitalization**: Ensures the first word of every sentence is capitalized.\n",
        "\n",
        "The corrected email is then returned as a single string.\n",
        "\n",
        "\n"
      ]
    },
    {
      "cell_type": "code",
      "execution_count": null,
      "id": "035fdeed",
      "metadata": {
        "id": "035fdeed"
      },
      "outputs": [],
      "source": [
        "\n",
        "def advanced_grammar_check(email_content):\n",
        "    doc = nlp(email_content)\n",
        "    corrections = [token.text.capitalize() if token.is_sent_start else token.text for token in doc]\n",
        "    return \" \".join(corrections)\n"
      ]
    },
    {
      "cell_type": "markdown",
      "id": "1a2cfba2",
      "metadata": {
        "id": "1a2cfba2"
      },
      "source": [
        "\n",
        "### Dynamic Tone Analysis\n",
        "\n",
        "This function utilizes the VADER sentiment analysis tool to assess the tone of the email. It provides the following outputs:\n",
        "\n",
        "1. **Tone Scores**:\n",
        "   - `neg`: Measures the negative sentiment in the email.\n",
        "   - `neu`: Measures the neutral sentiment.\n",
        "   - `pos`: Measures the positive sentiment.\n",
        "\n",
        "2. **Tone Feedback**:\n",
        "   - Suggests improvements based on the sentiment scores.\n",
        "   - For example, it warns if the email may appear too negative or suggests adding more engaging language if the content is overly neutral.\n",
        "\n",
        "The function returns both the tone scores and the feedback.\n",
        "\n"
      ]
    },
    {
      "cell_type": "code",
      "execution_count": null,
      "id": "77db39b1",
      "metadata": {
        "id": "77db39b1"
      },
      "outputs": [],
      "source": [
        "\n",
        "def dynamic_tone_analysis(email_content):\n",
        "    vader_analyzer = SentimentIntensityAnalyzer()\n",
        "    tone_scores = vader_analyzer.polarity_scores(email_content)\n",
        "    tone_feedback = []\n",
        "\n",
        "    if tone_scores['neg'] > 0.5:\n",
        "        tone_feedback.append(\"This email might come across as negative.\")\n",
        "    elif tone_scores['pos'] > 0.5:\n",
        "        tone_feedback.append(\"This email conveys positivity.\")\n",
        "    if tone_scores['neu'] > 0.7:\n",
        "        tone_feedback.append(\"Consider adding more engaging language.\")\n",
        "\n",
        "    return tone_scores, tone_feedback\n"
      ]
    },
    {
      "cell_type": "markdown",
      "id": "4f6e61c3",
      "metadata": {
        "id": "4f6e61c3"
      },
      "source": [
        "\n",
        "### BERT Sentiment Analysis\n",
        "\n",
        "This function uses a BERT-based model to classify the sentiment of the email into three categories: Negative, Neutral, and Positive. Here’s how it works:\n",
        "\n",
        "1. **Tokenization**: Converts the input email text into a format that the BERT model can process.\n",
        "2. **Model Prediction**: The pre-trained BERT model assigns probabilities to each sentiment category.\n",
        "3. **Output**: Returns a dictionary mapping each sentiment label to its corresponding probability.\n",
        "\n",
        "This method provides contextual sentiment analysis, capturing nuances in the text.\n",
        "\n"
      ]
    },
    {
      "cell_type": "code",
      "execution_count": null,
      "id": "504b5302",
      "metadata": {
        "id": "504b5302"
      },
      "outputs": [],
      "source": [
        "\n",
        "def bert_sentiment_analysis(text):\n",
        "    tokenizer = AutoTokenizer.from_pretrained(\"bert-base-uncased\")\n",
        "    model = AutoModelForSequenceClassification.from_pretrained(\"bert-base-uncased\", num_labels=3)\n",
        "    inputs = tokenizer(text, return_tensors=\"pt\")\n",
        "    outputs = model(**inputs)\n",
        "    sentiment_scores = outputs.logits.softmax(dim=-1)\n",
        "    labels = [\"Negative\", \"Neutral\", \"Positive\"]\n",
        "    return dict(zip(labels, sentiment_scores[0].tolist()))\n"
      ]
    },
    {
      "cell_type": "markdown",
      "id": "6070c65c",
      "metadata": {
        "id": "6070c65c"
      },
      "source": [
        "\n",
        "### Main Analysis Function\n",
        "\n",
        "This function integrates grammar correction, sentiment analysis, and summarization for a complete email analysis.\n"
      ]
    },
    {
      "cell_type": "code",
      "execution_count": null,
      "id": "048e4409",
      "metadata": {
        "id": "048e4409"
      },
      "outputs": [],
      "source": [
        "\n",
        "def analyze_email(email_content):\n",
        "    summarizer = pipeline(\"summarization\", model=\"facebook/bart-large-cnn\")\n",
        "\n",
        "    # Advanced grammar correction\n",
        "    corrected_email = advanced_grammar_check(email_content)\n",
        "\n",
        "    # Sentiment analysis (BERT and VADER)\n",
        "    bert_sentiment = bert_sentiment_analysis(email_content)\n",
        "    vader_tone_scores, vader_feedback = dynamic_tone_analysis(email_content)\n",
        "\n",
        "    # Summary generation\n",
        "    summary = summarizer(email_content, max_length=30, min_length=10, do_sample=False)\n",
        "\n",
        "    return {\n",
        "        \"corrected_email\": corrected_email,\n",
        "        \"bert_sentiment\": bert_sentiment,\n",
        "        \"vader_tone_scores\": vader_tone_scores,\n",
        "        \"vader_feedback\": vader_feedback,\n",
        "        \"summary\": summary[0]['summary_text']\n",
        "    }\n"
      ]
    },
    {
      "cell_type": "markdown",
      "id": "72be39db",
      "metadata": {
        "id": "72be39db"
      },
      "source": [
        "\n",
        "### Visualizing Tone Trends\n",
        "\n",
        "This function uses Matplotlib and Seaborn to plot tone trends across multiple emails, helping to reveal patterns.\n"
      ]
    },
    {
      "cell_type": "code",
      "execution_count": null,
      "id": "5f5fac93",
      "metadata": {
        "id": "5f5fac93"
      },
      "outputs": [],
      "source": [
        "\n",
        "def plot_tone_trends(emails):\n",
        "    vader_analyzer = SentimentIntensityAnalyzer()\n",
        "    tones = [vader_analyzer.polarity_scores(email) for email in emails]\n",
        "    sentiments = ['Positive', 'Neutral', 'Negative']\n",
        "    tone_intensities = [[t['pos'], t['neu'], t['neg']] for t in tones]\n",
        "\n",
        "    plt.figure(figsize=(10, 6))\n",
        "    sns.heatmap(tone_intensities, annot=True, xticklabels=sentiments, cmap=\"coolwarm\", cbar=True)\n",
        "    plt.xlabel(\"Tone Categories\")\n",
        "    plt.ylabel(\"Emails\")\n",
        "    plt.title(\"Tone Trends Across Emails\")\n",
        "    plt.show()\n"
      ]
    },
    {
      "cell_type": "markdown",
      "id": "6ecd3524",
      "metadata": {
        "id": "6ecd3524"
      },
      "source": [
        "\n",
        "## Example Usage\n",
        "\n",
        "Below, we demonstrate the use of our functions on sample email content and visualize tone trends across multiple emails.\n"
      ]
    },
    {
      "cell_type": "code",
      "execution_count": null,
      "id": "4977d713",
      "metadata": {
        "colab": {
          "base_uri": "https://localhost:8080/",
          "height": 852
        },
        "id": "4977d713",
        "outputId": "87d32b57-e1b7-49a0-95b1-7af5ff200f8f"
      },
      "outputs": [
        {
          "output_type": "stream",
          "name": "stderr",
          "text": [
            "/usr/local/lib/python3.10/dist-packages/thinc/shims/pytorch.py:114: FutureWarning: `torch.cuda.amp.autocast(args...)` is deprecated. Please use `torch.amp.autocast('cuda', args...)` instead.\n",
            "  with torch.cuda.amp.autocast(self._mixed_precision):\n",
            "Some weights of BertForSequenceClassification were not initialized from the model checkpoint at bert-base-uncased and are newly initialized: ['classifier.bias', 'classifier.weight']\n",
            "You should probably TRAIN this model on a down-stream task to be able to use it for predictions and inference.\n"
          ]
        },
        {
          "output_type": "stream",
          "name": "stdout",
          "text": [
            "Corrected Email: \n",
            " Dear [ Manager ’s Name ] , \n",
            " Thank you so much for organizing yesterday ’s meeting . It was truly impressive to see how much time we spent reviewing the same points as last week without reaching any new conclusions . I appreciate the opportunity to listen to everyone ’s thoughts – again – on issues we ’ve already discussed multiple times . \n",
            " It ’s always refreshing to attend meetings where decisions are avoided , and everyone leaves feeling as uncertain as they did beforehand . I look forward to the next one , where I ’m sure we ’ll make equally valuable progress . \n",
            " Best regards , \n",
            " [ Your Name ] \n",
            "\n",
            "BERT Sentiment Analysis: {'Negative': 0.23756180703639984, 'Neutral': 0.3080180287361145, 'Positive': 0.4544201195240021}\n",
            "VADER Tone Scores: {'neg': 0.056, 'neu': 0.667, 'pos': 0.277, 'compound': 0.9736}\n",
            "Tone Feedback: []\n",
            "Summary: Thank you so much for organizing yesterday’s meeting. It was truly impressive to see how much time we spent reviewing the same points\n"
          ]
        },
        {
          "output_type": "display_data",
          "data": {
            "text/plain": [
              "<Figure size 1000x600 with 2 Axes>"
            ],
            "image/png": "[encoded data removed]"
          },
          "metadata": {}
        }
      ],
      "source": [
        "\n",
        "# Example email input\n",
        "email_content = \"\"\"\n",
        "Dear [Manager’s Name],\n",
        "Thank you so much for organizing yesterday’s meeting. It was truly impressive to see how much time we spent reviewing the same points as last week without reaching any new conclusions. I appreciate the opportunity to listen to everyone’s thoughts – again – on issues we’ve already discussed multiple times.\n",
        "It’s always refreshing to attend meetings where decisions are avoided, and everyone leaves feeling as uncertain as they did beforehand. I look forward to the next one, where I’m sure we’ll make equally valuable progress.\n",
        "Best regards,\n",
        "[Your Name]\n",
        "\"\"\"\n",
        "\n",
        "results = analyze_email(email_content)\n",
        "print(\"Corrected Email:\", results['corrected_email'])\n",
        "print(\"BERT Sentiment Analysis:\", results['bert_sentiment'])\n",
        "print(\"VADER Tone Scores:\", results['vader_tone_scores'])\n",
        "print(\"Tone Feedback:\", results['vader_feedback'])\n",
        "print(\"Summary:\", results['summary'])\n",
        "\n",
        "# Example of trend visualization\n",
        "example_emails = [\n",
        "    \"Hi, everything is on track for the project.\",\n",
        "    \"The delays are concerning, we need to address them.\",\n",
        "    \"Great job on the recent update!\",\n",
        "    \"The recent performance was not satisfactoryy.\"\n",
        "]\n",
        "plot_tone_trends(example_emails)\n"
      ]
    },
    {
      "cell_type": "markdown",
      "source": [
        "# Temporary Section to create end-to-end testing\n",
        "\n",
        "# Method 2"
      ],
      "metadata": {
        "id": "xB4YNkJmyR7Q"
      },
      "id": "xB4YNkJmyR7Q"
    },
    {
      "cell_type": "markdown",
      "source": [
        "### Summary of Method 2\n",
        "\n",
        "Method 2 takes a more comprehensive and nuanced approach to email analysis by integrating multiple advanced tools and techniques. It starts with grammar correction using the `language_tool_python` library, which provides detailed feedback on grammar and spelling errors. Unlike the basic grammar corrections in Method 1, this method identifies a wider range of issues, such as incorrect verb usage, punctuation, and stylistic inconsistencies, and applies rule-based fixes.\n",
        "\n",
        "Emotion detection in Method 2 goes beyond basic sentiment classification. Using Hugging Face’s RoBERTa-based model, it identifies a broad spectrum of emotions, including happiness, sadness, anger, and surprise, providing a detailed emotional profile for the email. Each emotion is scored with a confidence level, enabling a deeper understanding of the email's tone.\n",
        "\n",
        "A standout feature of Method 2 is its sarcasm detection. Combining heuristic rules with a pre-trained Hugging Face sarcasm model, it can identify sarcastic undertones in the text. This dual approach ensures that even subtle sarcasm, often missed by traditional sentiment analysis, is captured.\n",
        "\n",
        "The sentiment analysis component combines the strengths of two models: VADER for rule-based sentiment scoring and Hugging Face BERT for context-aware sentiment analysis. By blending these scores, Method 2 achieves a more balanced and robust sentiment evaluation.\n",
        "\n",
        "Summarization continues to use the BART model but is more tightly integrated within the analysis pipeline, ensuring that key insights from the email are concisely presented.\n",
        "\n",
        "Finally, Method 2 offers dynamic bar charts that display both emotional tones and sarcasm levels, along with annotations for detected sarcastic phrases. This makes the analysis results not only comprehensive but also easily interpretable, facilitating better decision-making based on the email's content and tone.\n"
      ],
      "metadata": {
        "id": "UX-iZBXOZLNb"
      },
      "id": "UX-iZBXOZLNb"
    },
    {
      "cell_type": "markdown",
      "source": [
        "### Grammar Checking with language_tool_python\n",
        "\n",
        "This function checks for grammatical errors in the email using the `language_tool_python` library. Here's how it works:\n",
        "\n",
        "1. **Grammar Checking**: It scans the email for potential grammar issues, such as incorrect verb forms, punctuation errors, or spelling mistakes.\n",
        "2. **Correction Application**: It automatically applies corrections to the detected errors.\n",
        "3. **Output**:\n",
        "   - Returns the corrected email content.\n",
        "   - Provides a list of grammar issues found.\n",
        "\n",
        "This ensures that the email is grammatically correct before proceeding with further analysis.\n"
      ],
      "metadata": {
        "id": "wJNnTDukt1-r"
      },
      "id": "wJNnTDukt1-r"
    },
    {
      "cell_type": "code",
      "source": [
        "# Check for incorrect Grammar in input email\n",
        "def grammar_check(email_content):\n",
        "    tool = language_tool_python.LanguageTool('en-US')\n",
        "    matches = tool.check(email_content)\n",
        "    corrected_email = language_tool_python.utils.correct(email_content, matches)\n",
        "    return corrected_email, matches\n"
      ],
      "metadata": {
        "id": "pVaL1hJEty_p"
      },
      "id": "pVaL1hJEty_p",
      "execution_count": null,
      "outputs": []
    },
    {
      "cell_type": "markdown",
      "source": [
        "### Emotion Detection using Hugging Face Transformers\n",
        "\n",
        "This function uses a pre-trained transformer model to detect emotions in the email. Key steps include:\n",
        "\n",
        "1. **Emotion Classification**:\n",
        "   - The model assigns scores to different emotions such as happiness, sadness, anger, etc.\n",
        "2. **Output**:\n",
        "   - Returns a list of emotions with their corresponding confidence scores.\n",
        "\n",
        "This provides a deeper understanding of the emotional tone conveyed by the email.\n"
      ],
      "metadata": {
        "id": "BNfjxFHgt6ew"
      },
      "id": "BNfjxFHgt6ew"
    },
    {
      "cell_type": "code",
      "source": [
        "# Emotion Detection using Hugging Face Transformers\n",
        "def emotion_detection(email_content):\n",
        "    # Use a pre-trained emotion detection model\n",
        "    emotion_pipeline = pipeline(\"text-classification\", model=\"j-hartmann/emotion-english-distilroberta-base\", return_all_scores=True)\n",
        "    emotions = emotion_pipeline(email_content)\n",
        "    return emotions\n"
      ],
      "metadata": {
        "id": "5KvgpGWUt92v"
      },
      "id": "5KvgpGWUt92v",
      "execution_count": null,
      "outputs": []
    },
    {
      "cell_type": "markdown",
      "source": [
        "### VADER Sentiment Analysis\n",
        "\n",
        "The `VADER` tool performs sentiment analysis on the email content. Key aspects:\n",
        "\n",
        "1. **Sentiment Scores**:\n",
        "   - `neg`: Negative sentiment score.\n",
        "   - `neu`: Neutral sentiment score.\n",
        "   - `pos`: Positive sentiment score.\n",
        "   - `compound`: A normalized score summarizing the overall sentiment.\n",
        "2. **Output**:\n",
        "   - Provides an overall sentiment profile for the email.\n",
        "\n",
        "This function captures both polarity and intensity of sentiment using a lexicon-based approach.\n"
      ],
      "metadata": {
        "id": "B0eyXN1l6fGu"
      },
      "id": "B0eyXN1l6fGu"
    },
    {
      "cell_type": "code",
      "source": [
        "# VADER Sentiment Analysis\n",
        "def sentiment_analysis_vader(email_content):\n",
        "    sia = SentimentIntensityAnalyzer()\n",
        "    return sia.polarity_scores(email_content)"
      ],
      "metadata": {
        "id": "Kfyt0c2x6hPO"
      },
      "id": "Kfyt0c2x6hPO",
      "execution_count": null,
      "outputs": []
    },
    {
      "cell_type": "markdown",
      "source": [
        "\n",
        "\n",
        "### BERT Sentiment Analysis\n",
        "\n",
        "This function utilizes the Hugging Face `BERT` model for advanced sentiment analysis. Key points:\n",
        "\n",
        "1. **Tokenization**:\n",
        "   - Converts the email text into tokens that the BERT model can process.\n",
        "2. **Sentiment Prediction**:\n",
        "   - Provides probabilities for `Positive`, `Neutral`, and `Negative` sentiments.\n",
        "3. **Output**:\n",
        "   - Returns a dictionary mapping each sentiment label to its respective score.\n",
        "\n",
        "This adds contextual depth to sentiment analysis.\n"
      ],
      "metadata": {
        "id": "pB3rGxt26ua3"
      },
      "id": "pB3rGxt26ua3"
    },
    {
      "cell_type": "code",
      "source": [
        "# BERT Sentiment Analysis\n",
        "def sentiment_analysis(email_content):\n",
        "    sentiment_pipeline = pipeline(\"sentiment-analysis\", model=\"distilbert-base-uncased-finetuned-sst-2-english\")\n",
        "    sentiment = sentiment_pipeline(email_content)\n",
        "    return sentiment"
      ],
      "metadata": {
        "id": "NqatOk5D6wLF"
      },
      "id": "NqatOk5D6wLF",
      "execution_count": null,
      "outputs": []
    },
    {
      "cell_type": "markdown",
      "source": [
        "### Heuristic Sarcasm Detection\n",
        "\n",
        "This function detects sarcasm in the email using rule-based heuristics. Key steps:\n",
        "\n",
        "1. **Phrase Detection**:\n",
        "   - Searches for predefined sarcastic phrases (e.g., \"valuable progress\").\n",
        "2. **Confidence Assignment**:\n",
        "   - Assigns a higher confidence score if sarcastic phrases are detected.\n",
        "3. **Output**:\n",
        "   - Indicates whether sarcasm is detected and lists the phrases contributing to it.\n",
        "\n",
        "It complements the model-based sarcasm detection by using human-crafted rules.\n"
      ],
      "metadata": {
        "id": "27dO2PYvIcW8"
      },
      "id": "27dO2PYvIcW8"
    },
    {
      "cell_type": "code",
      "source": [
        "# Heuristic Function to use rule-based approach to check for slightly sarcastic understones in emails\n",
        "def heuristic_sarcasm_check(email_content):\n",
        "    sarcastic_phrases = [\n",
        "        \"valuable progress\",\n",
        "        \"refreshing\",\n",
        "        \"impressive time spent\",\n",
        "        \"as expected\",\n",
        "        \"great job repeating\",\n",
        "        \"looking forward to similar results\"\n",
        "    ]\n",
        "\n",
        "    # Check for any sarcastic phrase in the email\n",
        "    detected_phrases = [phrase for phrase in sarcastic_phrases if phrase in email_content.lower()]\n",
        "    sarcasm_confidence = 0.7 if detected_phrases else 0.3  # Assign higher confidence if phrases are found\n",
        "    return {\n",
        "        \"heuristic_detected\": bool(detected_phrases),\n",
        "        \"phrases\": detected_phrases,\n",
        "        \"score\": sarcasm_confidence\n",
        "    }\n"
      ],
      "metadata": {
        "id": "qsu3xVAIIfxm"
      },
      "id": "qsu3xVAIIfxm",
      "execution_count": null,
      "outputs": []
    },
    {
      "cell_type": "markdown",
      "source": [
        "### Hugging Face Sarcasm Detection\n",
        "\n",
        "This function leverages a pre-trained Hugging Face model for sarcasm detection:\n",
        "\n",
        "1. **Model Prediction**:\n",
        "   - Classifies the email as `SARCASM` or `NOT_SARCASM`.\n",
        "2. **Heuristic Integration**:\n",
        "   - Combines model output with heuristic results for enhanced accuracy.\n",
        "3. **Output**:\n",
        "   - Returns the sarcasm label, score, and heuristic phrases.\n",
        "\n",
        "It provides a robust mechanism for sarcasm detection by combining model and rule-based approaches."
      ],
      "metadata": {
        "id": "9oqoMqkjBEnd"
      },
      "id": "9oqoMqkjBEnd"
    },
    {
      "cell_type": "code",
      "source": [
        "# Hugginf Face Sarcasm Detection with built in heuristics\n",
        "def detect_sarcasm_with_heuristics(email_content):\n",
        "    # First, use the sarcasm model\n",
        "    sarcasm_result = sarcasm_pipeline(email_content)[0]\n",
        "\n",
        "    # Run heuristic sarcasm detection\n",
        "    heuristic_result = heuristic_sarcasm_check(email_content)\n",
        "\n",
        "    # Combine results: take the max score if heuristics detect sarcasm\n",
        "    combined_score = max(sarcasm_result['score'], heuristic_result['score'])\n",
        "    is_sarcastic = sarcasm_result['label'] == 'LABEL_1' or heuristic_result['heuristic_detected']\n",
        "\n",
        "    return {\n",
        "        \"label\": \"SARCASM\" if is_sarcastic else \"NOT_SARCASM\",\n",
        "        \"score\": combined_score,\n",
        "        \"heuristic_phrases\": heuristic_result['phrases']\n",
        "    }\n"
      ],
      "metadata": {
        "id": "vue0WVT9IrU3"
      },
      "id": "vue0WVT9IrU3",
      "execution_count": null,
      "outputs": []
    },
    {
      "cell_type": "code",
      "source": [
        "# Hugging Face Sarcasm Detection\n",
        "# def detect_sarcasm(email_content):\n",
        "#     sarcasm_pipeline = pipeline(\"text-classification\", model=\"mrm8488/t5-base-finetuned-sarcasm-twitter\", device=0)\n",
        "#     sarcasm_result = sarcasm_pipeline(email_content)\n",
        "#     return sarcasm_result[0]  # Return the most confident result\n",
        "\n"
      ],
      "metadata": {
        "id": "e6yWUHr8A9bc"
      },
      "id": "e6yWUHr8A9bc",
      "execution_count": null,
      "outputs": []
    },
    {
      "cell_type": "markdown",
      "source": [
        "### BART Summarization of Input Email\n",
        "\n",
        "This function summarizes the email content using the `BART` model:\n",
        "\n",
        "1. **Summarization**:\n",
        "   - Compresses the content to highlight key points.\n",
        "2. **Output**:\n",
        "   - Provides a concise summary of the email.\n",
        "\n",
        "This helps in quickly understanding the main ideas without reading the entire email.\n"
      ],
      "metadata": {
        "id": "JvOL9EK77iiL"
      },
      "id": "JvOL9EK77iiL"
    },
    {
      "cell_type": "code",
      "source": [
        "# Bart Summarization\n",
        "def summarize_email(email_content):\n",
        "    summarizer = pipeline(\"summarization\", model=\"facebook/bart-large-cnn\")\n",
        "    summary = summarizer(email_content, max_length=30, min_length=10, do_sample=False)\n",
        "    return summary[0]['summary_text']"
      ],
      "metadata": {
        "id": "9E-FjTt27l2o"
      },
      "id": "9E-FjTt27l2o",
      "execution_count": null,
      "outputs": []
    },
    {
      "cell_type": "markdown",
      "source": [
        "### Readability Analysis\n",
        "\n",
        "This function evaluates the readability of the email using `textstat`:\n",
        "\n",
        "1. **Readability Score**:\n",
        "   - Computes the Flesch Reading Ease score.\n",
        "   - Higher scores indicate easier-to-read content.\n",
        "2. **Output**:\n",
        "   - Returns a numerical readability score.\n",
        "\n",
        "This helps gauge how easy the email is to read and comprehend.\n"
      ],
      "metadata": {
        "id": "qimbUbppuAGI"
      },
      "id": "qimbUbppuAGI"
    },
    {
      "cell_type": "code",
      "source": [
        "def readability_analysis(email_content):\n",
        "    score = textstat.flesch_reading_ease(email_content)\n",
        "    return score\n"
      ],
      "metadata": {
        "id": "ebzAfXp3uEJl"
      },
      "id": "ebzAfXp3uEJl",
      "execution_count": null,
      "outputs": []
    },
    {
      "cell_type": "markdown",
      "source": [
        "\n",
        "### Combined Sentiment Scores from BERT and VADER\n",
        "\n",
        "This function combines sentiment results from BERT and VADER for a balanced analysis:\n",
        "\n",
        "1. **Score Normalization**:\n",
        "   - Adjusts the VADER compound score to a 0–1 range.\n",
        "2. **Weighted Combination**:\n",
        "   - Calculates a weighted average of sentiment scores from both models.\n",
        "3. **Final Sentiment**:\n",
        "   - Determines if the overall sentiment is Positive or Negative.\n",
        "\n",
        "This approach leverages the strengths of both contextual and lexicon-based models."
      ],
      "metadata": {
        "id": "ip55zDlM69Hg"
      },
      "id": "ip55zDlM69Hg"
    },
    {
      "cell_type": "code",
      "source": [
        "def combine_sentiment_scores(bert_sentiment, vader_tone_scores, bert_weight=0.6, vader_weight=0.4):\n",
        "    # Normalize VADER compound score to [0, 1]\n",
        "    vader_score_normalized = (vader_tone_scores['compound'] + 1) / 2  # Range [0, 1]\n",
        "\n",
        "    # Safely extract BERT positive/negative probabilities with default values if missing\n",
        "    bert_positive = next((score['score'] for score in bert_sentiment if score['label'].upper() == \"POSITIVE\"), 0.5)\n",
        "    bert_negative = next((score['score'] for score in bert_sentiment if score['label'].upper() == \"NEGATIVE\"), 0.5)\n",
        "\n",
        "    # Combined sentiment score (weighted average)\n",
        "    combined_positive = bert_weight * bert_positive + vader_weight * vader_score_normalized\n",
        "    combined_negative = bert_weight * bert_negative + vader_weight * (1 - vader_score_normalized)\n",
        "\n",
        "    # Determine final sentiment based on the combined scores\n",
        "    final_sentiment = \"Positive\" if combined_positive > combined_negative else \"Negative\"\n",
        "\n",
        "    return {\n",
        "        \"combined_positive\": combined_positive,\n",
        "        \"combined_negative\": combined_negative,\n",
        "        \"final_sentiment\": final_sentiment\n",
        "    }\n"
      ],
      "metadata": {
        "id": "Lg5mZwZC7A_c"
      },
      "id": "Lg5mZwZC7A_c",
      "execution_count": null,
      "outputs": []
    },
    {
      "cell_type": "markdown",
      "source": [
        "### Adjust Combined Sentiment for Sarcasm\n",
        "\n",
        "This function adjusts sentiment scores based on sarcasm detection:\n",
        "\n",
        "1. **Positive Sentiment Reduction**:\n",
        "   - Reduces positive sentiment if sarcasm is detected.\n",
        "2. **Negative Sentiment Boost**:\n",
        "   - Increases negative sentiment to reflect sarcastic undertones.\n",
        "3. **Output**:\n",
        "   - Returns adjusted sentiment scores and flags if sarcasm adjustments were applied.\n",
        "\n",
        "It ensures sentiment analysis accounts for sarcastic tones.\n"
      ],
      "metadata": {
        "id": "NJmjYCr4Bf8k"
      },
      "id": "NJmjYCr4Bf8k"
    },
    {
      "cell_type": "code",
      "source": [
        "# 9. Adjust Combined Sentiment for Sarcasm\n",
        "def adjust_for_sarcasm(combined_sentiment, sarcasm_result):\n",
        "    if sarcasm_result['label'] == 'SARCASM' and sarcasm_result['score'] > 0.6:\n",
        "        # Adjust sentiment scores to reflect sarcasm\n",
        "        combined_sentiment['combined_positive'] *= 0.5  # Reduce positive sentiment by 50%\n",
        "        combined_sentiment['combined_negative'] += 0.3  # Increase negative sentiment\n",
        "        if combined_sentiment['combined_negative'] > 1:\n",
        "            combined_sentiment['combined_negative'] = 1  # Cap at 1\n",
        "\n",
        "        combined_sentiment['final_sentiment'] = \"Negative\"\n",
        "        combined_sentiment['sarcasm_adjusted'] = True\n",
        "    else:\n",
        "        combined_sentiment['sarcasm_adjusted'] = False\n",
        "\n",
        "    return combined_sentiment\n",
        "\n"
      ],
      "metadata": {
        "id": "h8Rx9AAoBkaj"
      },
      "id": "h8Rx9AAoBkaj",
      "execution_count": null,
      "outputs": []
    },
    {
      "cell_type": "markdown",
      "source": [
        "### Main Analysis Pipeline\n",
        "\n",
        "This function integrates all the previously defined steps:\n",
        "\n",
        "1. **Preprocessing**:\n",
        "   - Corrects grammar and evaluates readability.\n",
        "2. **Analysis**:\n",
        "   - Detects emotions, sentiment, and sarcasm.\n",
        "3. **Summarization**:\n",
        "   - Provides a summary of the email content.\n",
        "4. **Output**:\n",
        "   - Returns a comprehensive analysis result, including all computed metrics.\n",
        "\n",
        "This serves as the primary workflow for analyzing emails.\n"
      ],
      "metadata": {
        "id": "lEIq7lOYuTyw"
      },
      "id": "lEIq7lOYuTyw"
    },
    {
      "cell_type": "code",
      "source": [
        "def analyze_email(email_content):\n",
        "    # Grammar and spelling correction\n",
        "    corrected_email, grammar_issues = grammar_check(email_content)\n",
        "\n",
        "    # Emotion detection\n",
        "    emotions = emotion_detection(corrected_email)\n",
        "\n",
        "    # Sentiment analysis (BERT and VADER)\n",
        "    vader_tone_scores = sentiment_analysis_vader(corrected_email)\n",
        "    bert_sentiment = sentiment_analysis(corrected_email)\n",
        "\n",
        "    # Sarcasm detection\n",
        "    sarcasm_result = detect_sarcasm_with_heuristics(corrected_email)\n",
        "\n",
        "    # Combine BERT and VADER sentiment scores\n",
        "    combined_sentiment = combine_sentiment_scores(bert_sentiment, vader_tone_scores)\n",
        "    # Adjust for Sarcasm Evaluation\n",
        "    combined_sentiment = adjust_for_sarcasm(combined_sentiment, sarcasm_result)\n",
        "\n",
        "    # Readability score\n",
        "    readability_score = readability_analysis(corrected_email)\n",
        "\n",
        "    # Email summarization\n",
        "    summary = summarize_email(corrected_email)\n",
        "\n",
        "    return {\n",
        "        \"corrected_email\": corrected_email,\n",
        "        \"grammar_issues\": grammar_issues,\n",
        "        \"emotions\": emotions,\n",
        "        \"bert_sentiment\": bert_sentiment,\n",
        "        \"vader_tone_scores\": vader_tone_scores,\n",
        "        \"sarcasm_result\": sarcasm_result,\n",
        "        \"combined_sentiment\": combined_sentiment,\n",
        "        \"readability_score\": readability_score,\n",
        "        \"summary\": summary\n",
        "    }"
      ],
      "metadata": {
        "id": "0JoOCzqauVHf"
      },
      "id": "0JoOCzqauVHf",
      "execution_count": null,
      "outputs": []
    },
    {
      "cell_type": "markdown",
      "source": [
        "### Visualization of Detected Emotions and Sarcasm\n",
        "\n",
        "This function visualizes the emotional tone and sarcasm level of the email:\n",
        "\n",
        "1. **Bar Chart**:\n",
        "   - Displays scores for each emotion in the email.\n",
        "2. **Sarcasm Indicator**:\n",
        "   - Adds a separate bar for sarcasm with a distinct color.\n",
        "3. **Annotations**:\n",
        "   - Highlights heuristic phrases contributing to sarcasm detection.\n",
        "\n",
        "It provides a clear visual representation of the email's emotional and sarcastic tone.\n"
      ],
      "metadata": {
        "id": "g2iPXM6Wu1iz"
      },
      "id": "g2iPXM6Wu1iz"
    },
    {
      "cell_type": "code",
      "source": [
        "def visualize_emotions_and_sarcasm(emotions_result, sarcasm_result):\n",
        "    import matplotlib.pyplot as plt\n",
        "    import numpy as np\n",
        "\n",
        "    # Extract emotion data\n",
        "    emotions = {emotion['label']: emotion['score'] for emotion in emotions_result[0]}\n",
        "    sarcasm_score = sarcasm_result['score']\n",
        "    heuristic_phrases = sarcasm_result['heuristic_phrases']\n",
        "\n",
        "    # Create bar chart for emotions\n",
        "    plt.figure(figsize=(10, 6))\n",
        "    emotion_names = list(emotions.keys())\n",
        "    emotion_values = list(emotions.values())\n",
        "    bars = plt.bar(emotion_names, emotion_values, color='skyblue', label='Emotions')\n",
        "\n",
        "    # Add sarcasm as a separate bar\n",
        "    plt.bar('Sarcasm', sarcasm_score, color='orange', label='Sarcasm', alpha=0.8)\n",
        "\n",
        "    # Annotate bars\n",
        "    for bar in bars:\n",
        "        plt.text(bar.get_x() + bar.get_width() / 2, bar.get_height() + 0.02, f'{bar.get_height():.2f}', ha='center', fontsize=10)\n",
        "\n",
        "    # Annotate sarcasm bar\n",
        "    plt.text(len(emotion_names), sarcasm_score + 0.02, f'{sarcasm_score:.2f}', ha='center', fontsize=10)\n",
        "\n",
        "    # Display heuristic phrases\n",
        "    if heuristic_phrases:\n",
        "        plt.text(len(emotions) - 1, max(emotion_values) + 0.1, f\"Heuristic Phrases: {', '.join(heuristic_phrases)}\",\n",
        "                 fontsize=12, color='darkred', ha='right')\n",
        "\n",
        "    # Customize plot\n",
        "    plt.title('Emotion Analysis with Sarcasm Detection')\n",
        "    plt.ylabel('Scores')\n",
        "    plt.ylim(0, 1)\n",
        "    plt.legend()\n",
        "    plt.show()\n",
        "\n"
      ],
      "metadata": {
        "id": "KeRwOFUdu5TK"
      },
      "id": "KeRwOFUdu5TK",
      "execution_count": null,
      "outputs": []
    },
    {
      "cell_type": "markdown",
      "source": [
        "Sentiment Analysis via SpaCy and Hugging Face Transformers\n",
        "\n",
        "backup - remove later\n",
        "def sentiment_analysis(email_content):\n",
        "    sentiment_pipeline = pipeline(\"sentiment-analysis\", model=\"distilbert-base-uncased-finetuned-sst-2-english\")\n",
        "    sentiment = sentiment_pipeline(email_content)\n",
        "    return sentiment"
      ],
      "metadata": {
        "id": "i8XnnX1ruIxP"
      },
      "id": "i8XnnX1ruIxP"
    },
    {
      "cell_type": "markdown",
      "source": [
        "Test Run"
      ],
      "metadata": {
        "id": "6C6nBX9HualN"
      },
      "id": "6C6nBX9HualN"
    },
    {
      "cell_type": "code",
      "source": [
        "email_content = \"\"\"\n",
        "Dear [Manager’s Name],\n",
        "Thank you so much for organizing yesterday’s meeting. It was truly impressive to see how much time we spent reviewing the same points as last week without reaching any new conclusions. I appreciate the opportunity to listen to everyone’s thoughts – again – on issues we’ve already discussed multiple times.\n",
        "It’s always refreshing to attend meetings where decisions are avoided, and everyone leaves feeling as uncertain as they did beforehand. I look forward to the next one, where I’m sure we’ll make equally valuable progress.\n",
        "Best regards,\n",
        "[Your Name]\n",
        "\"\"\"\n",
        "\n",
        "# # Run the analysis\n",
        "# results = analyze_email(email_content)\n",
        "\n",
        "# # Display the results\n",
        "# print(\"Corrected Email:\\n\", results[\"corrected_email\"])\n",
        "# print(\"\\nGrammar Issues:\\n\", results[\"grammar_issues\"])\n",
        "# print(\"\\nEmotions:\\n\", results[\"emotions\"])\n",
        "# print(\"\\nSentiment:\\n\", results[\"sentiment\"])\n",
        "# print(\"\\nReadability Score:\\n\", results[\"readability_score\"])\n",
        "\n",
        "# # Example of trend visualization\n",
        "# example_emails = [\n",
        "#     \"Hi, everything is on track for the project.\",\n",
        "#     \"The delays are concerning, we need to address them.\",\n",
        "#     \"Great job on the recent update!\",\n",
        "#     \"The recent performance was not satisfactoryy.\"\n",
        "# ]\n",
        "# plot_tone_trends(example_emails)\n",
        "\n",
        "# Analyze the email\n",
        "results = analyze_email(email_content)\n",
        "\n",
        "# Print the results\n",
        "print(\"\\nGrammar Issues:\\n\", results[\"grammar_issues\"])\n",
        "print(\"\\nCorrected Email:\\n\", results[\"corrected_email\"])\n",
        "print(\"\\nEmotions:\\n\")\n",
        "for emotion in results[\"emotions\"][0]:\n",
        "    print(f\"{emotion['label']}: {emotion['score']:.2f}\")\n",
        "print(\"\\nBERT Sentiment:\\n\", results[\"bert_sentiment\"])\n",
        "print(\"\\nVADER Tone Scores:\\n\", results[\"vader_tone_scores\"])\n",
        "print(\"\\nSarcasm Detection Result:\\n\", results[\"sarcasm_result\"])\n",
        "print(\"\\nHeuristic Phrases Detected:\\n\", results[\"sarcasm_result\"][\"heuristic_phrases\"])\n",
        "print(\"\\nCombined Sentiment:\\n\", results[\"combined_sentiment\"])\n",
        "print(\"\\nReadability Score:\\n\", results[\"readability_score\"])\n",
        "print(\"\\nSummary:\\n\", results[\"summary\"])\n",
        "\n",
        "# Visualize Emotions\n",
        "visualize_emotions_and_sarcasm(results[\"emotions\"], results[\"sarcasm_result\"])"
      ],
      "metadata": {
        "colab": {
          "base_uri": "https://localhost:8080/",
          "height": 1000
        },
        "id": "4sOxDtTIubeB",
        "outputId": "6fcd3518-42c3-47ee-82a3-556dfe409977"
      },
      "id": "4sOxDtTIubeB",
      "execution_count": null,
      "outputs": [
        {
          "output_type": "stream",
          "name": "stdout",
          "text": [
            "\n",
            "Grammar Issues:\n",
            " []\n",
            "\n",
            "Corrected Email:\n",
            " \n",
            "Dear [Manager’s Name],\n",
            "Thank you so much for organizing yesterday’s meeting. It was truly impressive to see how much time we spent reviewing the same points as last week without reaching any new conclusions. I appreciate the opportunity to listen to everyone’s thoughts – again – on issues we’ve already discussed multiple times.\n",
            "It’s always refreshing to attend meetings where decisions are avoided, and everyone leaves feeling as uncertain as they did beforehand. I look forward to the next one, where I’m sure we’ll make equally valuable progress.\n",
            "Best regards,\n",
            "[Your Name]\n",
            "\n",
            "\n",
            "Emotions:\n",
            "\n",
            "anger: 0.00\n",
            "disgust: 0.00\n",
            "fear: 0.82\n",
            "joy: 0.05\n",
            "neutral: 0.09\n",
            "sadness: 0.01\n",
            "surprise: 0.01\n",
            "\n",
            "BERT Sentiment:\n",
            " [{'label': 'POSITIVE', 'score': 0.9995730519294739}]\n",
            "\n",
            "VADER Tone Scores:\n",
            " {'neg': 0.056, 'neu': 0.667, 'pos': 0.277, 'compound': 0.9736}\n",
            "\n",
            "Sarcasm Detection Result:\n",
            " {'label': 'SARCASM', 'score': 0.7, 'heuristic_phrases': ['valuable progress', 'refreshing']}\n",
            "\n",
            "Heuristic Phrases Detected:\n",
            " ['valuable progress', 'refreshing']\n",
            "\n",
            "Combined Sentiment:\n",
            " {'combined_positive': 0.49723191557884217, 'combined_negative': 0.60528, 'final_sentiment': 'Negative', 'sarcasm_adjusted': True}\n",
            "\n",
            "Readability Score:\n",
            " 56.25\n",
            "\n",
            "Summary:\n",
            " Thank you so much for organizing yesterday’s meeting. It was truly impressive to see how much time we spent reviewing the same points\n"
          ]
        },
        {
          "output_type": "display_data",
          "data": {
            "text/plain": [
              "<Figure size 1000x600 with 1 Axes>"
            ],
            "image/png": "[encoded data removed]"
          },
          "metadata": {}
        }
      ]
    },
    {
      "cell_type": "markdown",
      "source": [
        "# Implement Sender Side email recommendations here\n",
        "Will finish later today"
      ],
      "metadata": {
        "id": "lZt2Mar78DSP"
      },
      "id": "lZt2Mar78DSP"
    },
    {
      "cell_type": "code",
      "source": [
        "import nltk\n",
        "from nltk.tokenize import sent_tokenize\n",
        "from nltk.sentiment import SentimentIntensityAnalyzer\n",
        "from transformers import pipeline\n",
        "import matplotlib.pyplot as plt\n",
        "from collections import defaultdict\n",
        "import warnings\n",
        "\n",
        "import logging\n",
        "logging.getLogger(\"transformers.modeling_utils\").setLevel(logging.ERROR)\n",
        "\n",
        "\n",
        "# Suppress unnecessary warnings\n",
        "warnings.filterwarnings(\"ignore\", category=UserWarning, module=\"transformers\")\n",
        "\n",
        "# Download required NLTK models\n",
        "nltk.download('punkt')\n",
        "nltk.download('punkt_tab')\n",
        "\n",
        "sia = SentimentIntensityAnalyzer()\n",
        "\n",
        "def tokenize_email(email_content):\n",
        "    return sent_tokenize(email_content)\n",
        "\n",
        "\n",
        "def analyze_sentences(sentences):\n",
        "    results = []\n",
        "    for sentence in sentences:\n",
        "        sentiment = sia.polarity_scores(sentence)\n",
        "        results.append((sentence, sentiment))\n",
        "    return results\n",
        "\n",
        "def heuristic_sarcasm_check(email_content):\n",
        "    sarcastic_phrases = [\n",
        "        \"valuable progress\", \"refreshing\", \"impressive time spent\",\n",
        "        \"as expected\", \"great job repeating\", \"looking forward to similar results\"\n",
        "    ]\n",
        "    detected_phrases = [phrase for phrase in sarcastic_phrases if phrase in email_content.lower()]\n",
        "    sarcasm_confidence = 0.7 if detected_phrases else 0.3  # Assign higher confidence if phrases are found\n",
        "    return {\n",
        "        \"heuristic_detected\": bool(detected_phrases),\n",
        "        \"phrases\": detected_phrases,\n",
        "        \"score\": sarcasm_confidence\n",
        "    }\n",
        "\n",
        "def detect_sarcasm_with_heuristics(email_content):\n",
        "    \"\"\"Detects sarcasm using a pre-trained Hugging Face model and heuristic methods.\"\"\"\n",
        "    sarcasm_pipeline = pipeline(\n",
        "        \"text-classification\",\n",
        "        model=\"mrm8488/t5-base-finetuned-sarcasm-twitter\",\n",
        "        device=-1  # Use CPU\n",
        "    )\n",
        "\n",
        "    sarcasm_result = sarcasm_pipeline(email_content)[0]\n",
        "    heuristic_result = heuristic_sarcasm_check(email_content)\n",
        "\n",
        "    combined_score = max(sarcasm_result['score'], heuristic_result['score'])\n",
        "    is_sarcastic = sarcasm_result['label'] == 'LABEL_1' or heuristic_result['heuristic_detected']\n",
        "\n",
        "    return {\n",
        "        \"label\": \"SARCASM\" if is_sarcastic else \"NOT_SARCASM\",\n",
        "        \"score\": combined_score,\n",
        "        \"heuristic_phrases\": heuristic_result['phrases']\n",
        "    }\n",
        "\n"
      ],
      "metadata": {
        "colab": {
          "base_uri": "https://localhost:8080/"
        },
        "id": "omtu1S1eiqCA",
        "outputId": "d0fc5929-2573-42e0-d86d-d4cdbda25972"
      },
      "id": "omtu1S1eiqCA",
      "execution_count": null,
      "outputs": [
        {
          "output_type": "stream",
          "name": "stderr",
          "text": [
            "[nltk_data] Downloading package punkt to /root/nltk_data...\n",
            "[nltk_data]   Package punkt is already up-to-date!\n",
            "[nltk_data] Downloading package punkt_tab to /root/nltk_data...\n",
            "[nltk_data]   Package punkt_tab is already up-to-date!\n"
          ]
        }
      ]
    },
    {
      "cell_type": "markdown",
      "source": [
        "Generate suggestions for high negative values"
      ],
      "metadata": {
        "id": "cDqJbLaFi0Eu"
      },
      "id": "cDqJbLaFi0Eu"
    },
    {
      "cell_type": "code",
      "source": [
        "def suggest_restructuring(sentences, sentiment_results, sarcasm_results, negative_threshold=0.5, sarcasm_threshold=0.7):\n",
        "    \"\"\"Generates restructuring suggestions for sentences with negative sentiment or sarcasm.\"\"\"\n",
        "    suggestions = []\n",
        "\n",
        "    for i, (sentence, sentiment) in enumerate(sentiment_results):\n",
        "        sarcasm = sarcasm_results[i]\n",
        "\n",
        "        # Skip short or generic sentences (e.g., \"Best regards\")\n",
        "        if len(sentence.strip()) < 10 or any(keyword in sentence.lower() for keyword in [\"best regards\", \"yours truly\", \"sincerely\"]):\n",
        "            continue\n",
        "\n",
        "        # Negative sentiment suggestion\n",
        "        if sentiment['neg'] > negative_threshold:\n",
        "            suggestions.append((sentence, \"This sentence appears too negative. Consider rephrasing.\"))\n",
        "\n",
        "        # Sarcasm suggestion\n",
        "        if sarcasm['label'] == \"SARCASM\" and sarcasm['score'] > sarcasm_threshold:\n",
        "            heuristic_msg = (f\"Detected sarcasm: {', '.join(sarcasm['heuristic_phrases'])}\"\n",
        "                             if sarcasm['heuristic_phrases']\n",
        "                             else \"Detected sarcasm. Consider rephrasing for clarity.\")\n",
        "            suggestions.append((sentence, heuristic_msg))\n",
        "\n",
        "    return suggestions\n",
        "\n",
        "\n",
        "\n",
        "\n",
        "# Extract actionable items\n",
        "def extract_actionable_items(email_content):\n",
        "    \"\"\"Extracts actionable items from email using rule-based keyword detection.\"\"\"\n",
        "    action_phrases = [\"next steps\", \"action required\", \"please respond by\", \"deadline\"]\n",
        "    sentences = tokenize_email(email_content)\n",
        "    actions = [sentence for sentence in sentences if any(phrase in sentence.lower() for phrase in action_phrases)]\n",
        "    return actions\n",
        "\n",
        "def visualize_receiver_dashboard(emotions_result, sarcasm_result):\n",
        "    \"\"\"Displays a dashboard showing the detected emotions and sarcasm score.\"\"\"\n",
        "    visualize_emotions_and_sarcasm(emotions_result, sarcasm_result)  # Assume prior visualization method is used\n"
      ],
      "metadata": {
        "id": "4apbrlR9iyeV"
      },
      "id": "4apbrlR9iyeV",
      "execution_count": null,
      "outputs": []
    },
    {
      "cell_type": "markdown",
      "source": [
        "Create new email"
      ],
      "metadata": {
        "id": "njcnkmDri4n2"
      },
      "id": "njcnkmDri4n2"
    },
    {
      "cell_type": "code",
      "source": [
        "# 8. Main Workflow\n",
        "def email_analysis_workflow(email_content):\n",
        "    \"\"\"Complete workflow for analyzing and improving email content.\"\"\"\n",
        "    # Tokenize and analyze sentences\n",
        "    sentences = tokenize_email(email_content)\n",
        "    sentiment_results = analyze_sentences(sentences)\n",
        "    sarcasm_results = [detect_sarcasm_with_heuristics(sentence) for sentence in sentences]\n",
        "\n",
        "    # Generate restructuring suggestions\n",
        "    suggestions = suggest_restructuring(sentences, sentiment_results, sarcasm_results)\n",
        "\n",
        "    # Display suggestions\n",
        "    print(\"Restructuring Suggestions:\")\n",
        "    for sentence, suggestion in suggestions:\n",
        "        print(f\"- {sentence}\\n  Suggestion: {suggestion}\\n\")\n",
        "\n",
        "    # Extract actionable items\n",
        "    actionable_items = extract_actionable_items(email_content)\n",
        "    print(\"\\nActionable Items:\")\n",
        "    for item in actionable_items:\n",
        "        print(f\"- {item}\")\n",
        "\n",
        "    # Emotions and sarcasm visualization\n",
        "    emotions_result = emotion_detection(email_content)\n",
        "    sarcasm_result = detect_sarcasm_with_heuristics(email_content)\n",
        "    visualize_receiver_dashboard(emotions_result, sarcasm_result)\n",
        "\n",
        "\n",
        "\n",
        "# Test Email\n",
        "email_content = \"\"\"\n",
        "Dear [Manager’s Name],\n",
        "Thank you so much for organizing yesterday’s meeting. It was truly impressive to see how much time we spent reviewing\n",
        "the same points as last week without reaching any new conclusions. I appreciate the opportunity to listen to everyone’s\n",
        "thoughts – again – on issues we’ve already discussed multiple times. It’s always refreshing to attend meetings where\n",
        "decisions are avoided, and everyone leaves feeling as uncertain as they did beforehand. I look forward to the next one,\n",
        "where I’m sure we’ll make equally valuable progress.\n",
        "Best regards,\n",
        "[Your Name]\n",
        "\"\"\"\n",
        "\n",
        "# Run the Workflow\n",
        "email_analysis_workflow(email_content)\n"
      ],
      "metadata": {
        "id": "QrGRXzgIi7S8",
        "colab": {
          "base_uri": "https://localhost:8080/",
          "height": 742
        },
        "outputId": "b9a653ac-490f-42e6-e3e1-22bbfeb2cecc"
      },
      "id": "QrGRXzgIi7S8",
      "execution_count": null,
      "outputs": [
        {
          "output_type": "stream",
          "name": "stdout",
          "text": [
            "Restructuring Suggestions:\n",
            "- It was truly impressive to see how much time we spent reviewing\n",
            "the same points as last week without reaching any new conclusions.\n",
            "  Suggestion: Detected sarcasm. Consider rephrasing for clarity.\n",
            "\n",
            "- It’s always refreshing to attend meetings where\n",
            "decisions are avoided, and everyone leaves feeling as uncertain as they did beforehand.\n",
            "  Suggestion: Detected sarcasm: refreshing\n",
            "\n",
            "\n",
            "Actionable Items:\n"
          ]
        },
        {
          "output_type": "display_data",
          "data": {
            "text/plain": [
              "<Figure size 1000x600 with 1 Axes>"
            ],
            "image/png": "[encoded data removed]"
          },
          "metadata": {}
        }
      ]
    },
    {
      "cell_type": "markdown",
      "source": [
        "# Implement Receiver side problematic and sarcasm detection\n",
        "Will finish later today"
      ],
      "metadata": {
        "id": "1VyXcyp58H9A"
      },
      "id": "1VyXcyp58H9A"
    },
    {
      "cell_type": "markdown",
      "source": [
        "## Emotions and Sarcasm Dashboard\n",
        "\n",
        "## Provide recipients with a clear visual representation of the email's emotional tone and sarcasm level."
      ],
      "metadata": {
        "id": "MkXuBfxZE_7_"
      },
      "id": "MkXuBfxZE_7_"
    },
    {
      "cell_type": "code",
      "source": [
        "def visualize_receiver_dashboard(emotions_result, sarcasm_result):\n",
        "    \"\"\"Displays a dashboard showing the detected emotions and sarcasm score.\"\"\"\n",
        "    import matplotlib.pyplot as plt\n",
        "\n",
        "    # Extract emotion data\n",
        "    emotions = {emotion['label']: emotion['score'] for emotion in emotions_result[0]}\n",
        "    sarcasm_score = sarcasm_result['score']\n",
        "    heuristic_phrases = sarcasm_result['heuristic_phrases']\n",
        "\n",
        "    # Create bar chart for emotions\n",
        "    plt.figure(figsize=(10, 6))\n",
        "    emotion_names = list(emotions.keys())\n",
        "    emotion_values = list(emotions.values())\n",
        "    bars = plt.bar(emotion_names, emotion_values, color='skyblue', label='Emotions')\n",
        "\n",
        "    # Add sarcasm as a separate bar\n",
        "    plt.bar('Sarcasm', sarcasm_score, color='orange', label='Sarcasm', alpha=0.8)\n",
        "\n",
        "    # Annotate bars\n",
        "    for bar in bars:\n",
        "        plt.text(bar.get_x() + bar.get_width() / 2, bar.get_height() + 0.02, f'{bar.get_height():.2f}', ha='center', fontsize=10)\n",
        "\n",
        "    # Annotate sarcasm bar\n",
        "    plt.text(len(emotion_names), sarcasm_score + 0.02, f'{sarcasm_score:.2f}', ha='center', fontsize=10)\n",
        "\n",
        "    # Display heuristic phrases\n",
        "    if heuristic_phrases:\n",
        "        plt.text(len(emotions) - 1, max(emotion_values) + 0.1, f\"Heuristic Phrases: {', '.join(heuristic_phrases)}\",\n",
        "                 fontsize=12, color='darkred', ha='right')\n",
        "\n",
        "    # Customize plot\n",
        "    plt.title('Receiver Dashboard: Emotions and Sarcasm')\n",
        "    plt.ylabel('Scores')\n",
        "    plt.ylim(0, 1)\n",
        "    plt.legend()\n",
        "    plt.show()\n"
      ],
      "metadata": {
        "id": "Kduz6r4nFSFL"
      },
      "id": "Kduz6r4nFSFL",
      "execution_count": null,
      "outputs": []
    },
    {
      "cell_type": "markdown",
      "source": [
        "# 2. Flagging Ambiguous or Sarcastic Sections\n",
        "\n",
        "## Highlight potentially ambiguous or sarcastic sentences to help recipients interpret intent.\n",
        "Implementation:\n",
        "\n",
        "Use the sarcasm detection output to flag sentences containing sarcasm and display potential interpretations."
      ],
      "metadata": {
        "id": "dCXsFus7Fv39"
      },
      "id": "dCXsFus7Fv39"
    },
    {
      "cell_type": "code",
      "source": [
        "def highlight_ambiguous_sections(sentences, sarcasm_results, sarcasm_threshold=0.7):\n",
        "    \"\"\"Highlights sentences that are ambiguous or sarcastic.\"\"\"\n",
        "    print(\"Ambiguous/Sarcastic Sections:\")\n",
        "    for i, sentence in enumerate(sentences):\n",
        "        sarcasm = sarcasm_results[i]\n",
        "        if sarcasm['label'] == \"SARCASM\" and sarcasm['score'] > sarcasm_threshold:\n",
        "            heuristic_phrases = sarcasm['heuristic_phrases']\n",
        "            phrases_text = f\"({', '.join(heuristic_phrases)})\" if heuristic_phrases else \"\"\n",
        "            print(f\"- {sentence.strip()} {phrases_text}\")\n"
      ],
      "metadata": {
        "id": "UKULsqBpF2C0"
      },
      "id": "UKULsqBpF2C0",
      "execution_count": null,
      "outputs": []
    },
    {
      "cell_type": "markdown",
      "source": [
        "# 3. Extracting Actionable Items\n",
        "## Purpose:\n",
        "\n",
        "##Highlight actionable items (e.g., tasks, deadlines) from the email content.\n",
        "Implementation:\n",
        "\n",
        "Search for specific phrases or keywords associated with tasks and deadlines."
      ],
      "metadata": {
        "id": "7sYMgyB_F6oj"
      },
      "id": "7sYMgyB_F6oj"
    },
    {
      "cell_type": "code",
      "source": [
        "def extract_actionable_items(email_content):\n",
        "    \"\"\"Extracts actionable items from email using rule-based keyword detection.\"\"\"\n",
        "    action_phrases = [\"next steps\", \"action required\", \"please respond by\", \"deadline\", \"to do\"]\n",
        "    sentences = tokenize_email(email_content)\n",
        "    actions = [sentence for sentence in sentences if any(phrase in sentence.lower() for phrase in action_phrases)]\n",
        "    return actions\n",
        "\n",
        "def display_actionable_items(actionable_items):\n",
        "    \"\"\"Displays actionable items for the receiver.\"\"\"\n",
        "    if not actionable_items:\n",
        "        print(\"\\nNo actionable items detected.\")\n",
        "    else:\n",
        "        print(\"\\nActionable Items:\")\n",
        "        for item in actionable_items:\n",
        "            print(f\"- {item.strip()}\")\n"
      ],
      "metadata": {
        "id": "y6zKVSoqGBrA"
      },
      "id": "y6zKVSoqGBrA",
      "execution_count": null,
      "outputs": []
    },
    {
      "cell_type": "markdown",
      "source": [
        "# 4. Receiver Workflow\n",
        "\n",
        "## Integrate all the receiver-side solutions into a single workflow."
      ],
      "metadata": {
        "id": "hOKGPdEwGGnI"
      },
      "id": "hOKGPdEwGGnI"
    },
    {
      "cell_type": "code",
      "source": [
        "def receiver_analysis_workflow(email_content):\n",
        "    \"\"\"Workflow for receiver-side analysis.\"\"\"\n",
        "    # Tokenize email\n",
        "    sentences = tokenize_email(email_content)\n",
        "\n",
        "    # Sarcasm analysis\n",
        "    sarcasm_results = [detect_sarcasm_with_heuristics(sentence) for sentence in sentences]\n",
        "\n",
        "    # Emotion analysis\n",
        "    emotions_result = emotion_detection(email_content)\n",
        "\n",
        "    # Flag ambiguous sections\n",
        "    highlight_ambiguous_sections(sentences, sarcasm_results)\n",
        "\n",
        "    # Extract actionable items\n",
        "    actionable_items = extract_actionable_items(email_content)\n",
        "    display_actionable_items(actionable_items)\n",
        "\n",
        "    # Visualize emotions and sarcasm\n",
        "    visualize_receiver_dashboard(emotions_result, sarcasm_results[-1])  # Pass final sarcasm result for summary\n",
        "\n",
        "\n",
        "# Test Email Content\n",
        "email_content = \"\"\"\n",
        "Dear [Manager’s Name],\n",
        "Thank you so much for organizing yesterday’s meeting. It was truly impressive to see how much time we spent reviewing\n",
        "the same points as last week without reaching any new conclusions. I appreciate the opportunity to listen to everyone’s\n",
        "thoughts – again – on issues we’ve already discussed multiple times. It’s always refreshing to attend meetings where\n",
        "decisions are avoided, and everyone leaves feeling as uncertain as they did beforehand. I look forward to the next one,\n",
        "where I’m sure we’ll make equally valuable progress.\n",
        "Best regards,\n",
        "[Your Name]\n",
        "\"\"\"\n",
        "\n",
        "# Run Receiver Workflow\n",
        "receiver_analysis_workflow(email_content)\n",
        "\n"
      ],
      "metadata": {
        "colab": {
          "base_uri": "https://localhost:8080/",
          "height": 599
        },
        "id": "2lWwzJS4GIuG",
        "outputId": "6bc8a690-ef68-495f-f4b4-be3f4c9edcec"
      },
      "id": "2lWwzJS4GIuG",
      "execution_count": null,
      "outputs": [
        {
          "output_type": "stream",
          "name": "stdout",
          "text": [
            "Ambiguous/Sarcastic Sections:\n",
            "\n",
            "No actionable items detected.\n"
          ]
        },
        {
          "output_type": "display_data",
          "data": {
            "text/plain": [
              "<Figure size 1000x600 with 1 Axes>"
            ],
            "image/png": "[encoded data removed]"
          },
          "metadata": {}
        }
      ]
    },
    {
      "cell_type": "markdown",
      "source": [
        "# 1. Tone Evolution Over Time\n",
        "## Purpose:\n",
        "Track the tone of emails over time to identify patterns, such as whether communication is becoming more negative or positive.\n",
        "\n",
        "###Implementation:\n",
        " Aggregate sentiment scores (e.g., compound from VADER or combined sentiment) across multiple emails and plot the trend."
      ],
      "metadata": {
        "id": "-SJoDRZTHwJc"
      },
      "id": "-SJoDRZTHwJc"
    },
    {
      "cell_type": "code",
      "source": [
        "# Step 1: Define your emails\n",
        "email_contents = [\n",
        "    \"The project is going well, and we are on track to meet the deadline.\",\n",
        "    \"I'm concerned about the delay in completing the tasks. Please update me on the status.\",\n",
        "    \"Great job on the recent update! The progress looks promising.\",\n",
        "    \"There are still unresolved issues that need attention before we proceed further.\",\n",
        "    \"How in this world does everybody suck so bad at accomplishing even THE MOST BASIC of tasks?!\"\n",
        "]\n",
        "\n",
        "\n",
        "# Use this for file input containing emails\n",
        "#with open(\"emails.txt\", \"r\") as file:\n",
        "    #email_contents = file.readlines()  # Each line represents one email\n",
        "\n",
        "\n",
        "# Step 2: Define the tone trend analysis function\n",
        "import numpy as np\n",
        "import matplotlib.pyplot as plt\n",
        "\n",
        "def tone_trend_analysis(email_contents):\n",
        "    \"\"\"Tracks tone evolution over time based on sentiment analysis, with annotations.\"\"\"\n",
        "    tones = []\n",
        "    for content in email_contents:\n",
        "        sentiment_result = sia.polarity_scores(content)  # VADER Sentiment Analysis\n",
        "        tones.append(sentiment_result['compound'])\n",
        "\n",
        "    # Calculate mean and standard deviation for anomaly detection\n",
        "    mean_tone = np.mean(tones)\n",
        "    std_tone = np.std(tones)\n",
        "\n",
        "    # Plot the tone trend\n",
        "    plt.figure(figsize=(10, 6))\n",
        "    plt.plot(range(len(tones)), tones, marker='o', linestyle='-', color='blue', label='Tone Trend')\n",
        "    plt.axhline(0, color='red', linestyle='--', label='Neutral Tone')\n",
        "\n",
        "    # Annotate points\n",
        "    for i, tone in enumerate(tones):\n",
        "        plt.text(i, tone + 0.05, f\"{tone:.2f}\", ha='center', fontsize=9)\n",
        "        # Highlight anomalies\n",
        "        if abs(tone - mean_tone) > 2 * std_tone:  # Z-score > 2\n",
        "            plt.scatter(i, tone, color='orange', s=100, label='Anomaly' if i == 0 else \"\")\n",
        "\n",
        "    # Customize plot\n",
        "    plt.title('Tone Evolution Over Time')\n",
        "    plt.xlabel('Email Index')\n",
        "    plt.ylabel('Sentiment Compound Score')\n",
        "    plt.legend()\n",
        "    plt.grid(True)\n",
        "    plt.show()\n",
        "\n",
        "# Step 3: Call the function\n",
        "tone_trend_analysis(email_contents)\n"
      ],
      "metadata": {
        "colab": {
          "base_uri": "https://localhost:8080/",
          "height": 564
        },
        "id": "a5JzWq0dH5DH",
        "outputId": "a29612b2-c9fa-447e-9cb9-451b990a6092"
      },
      "id": "a5JzWq0dH5DH",
      "execution_count": null,
      "outputs": [
        {
          "output_type": "display_data",
          "data": {
            "text/plain": [
              "<Figure size 1000x600 with 1 Axes>"
            ],
            "image/png": "[encoded data removed]"
          },
          "metadata": {}
        }
      ]
    },
    {
      "cell_type": "markdown",
      "source": [
        "# 2. Contextual Anomalies in Tone\n",
        "##Purpose:\n",
        "Flag emails where the tone significantly deviates from prior communications to highlight potential issues.\n",
        "##Implementation:\n",
        "Calculate z-scores for sentiment compound scores and flag emails with high deviations."
      ],
      "metadata": {
        "id": "haZRneawH-Q_"
      },
      "id": "haZRneawH-Q_"
    },
    {
      "cell_type": "code",
      "source": [
        "import numpy as np\n",
        "\n",
        "def detect_anomalies(email_contents):\n",
        "    \"\"\"Detects emails with anomalous tone based on prior communications.\"\"\"\n",
        "    tones = [sia.polarity_scores(content)['compound'] for content in email_contents]\n",
        "    mean_tone = np.mean(tones)\n",
        "    std_tone = np.std(tones)\n",
        "\n",
        "    anomalies = []\n",
        "    for i, tone in enumerate(tones):\n",
        "        z_score = (tone - mean_tone) / std_tone\n",
        "        if abs(z_score) > 2:  # Flagging if z-score > 2\n",
        "            anomalies.append((i, email_contents[i], tone))\n",
        "\n",
        "    # Display anomalies\n",
        "    print(\"Anomalous Emails:\")\n",
        "    if anomalies:\n",
        "        for index, content, tone in anomalies:\n",
        "            print(f\"- Email {index + 1} (Tone: {tone:.2f}): {content.strip()[:100]}...\")\n",
        "    else:\n",
        "        print(\"No anomalies detected.\")\n"
      ],
      "metadata": {
        "id": "Prfe1Gs0IBvx"
      },
      "id": "Prfe1Gs0IBvx",
      "execution_count": null,
      "outputs": []
    },
    {
      "cell_type": "markdown",
      "source": [
        "# 3. Receiver-Specific Insights\n",
        "##Purpose:\n",
        "Adjust the email tone interpretation based on the recipient's mood, communication style, or prior preferences.\n",
        "##Implementation:\n",
        "Allow recipients to input their mood or preferences and adjust the tone analysis output accordingly."
      ],
      "metadata": {
        "id": "g4-Dp8h7IE-P"
      },
      "id": "g4-Dp8h7IE-P"
    },
    {
      "cell_type": "code",
      "source": [
        "def adjust_tone_for_recipient(sentiment_score, recipient_mood=\"neutral\"):\n",
        "    \"\"\"Adjusts tone interpretation based on recipient mood.\"\"\"\n",
        "    adjustment_factors = {\n",
        "        \"positive\": 0.1,  # Boost positivity if recipient is in a good mood\n",
        "        \"neutral\": 0.0,   # No adjustment\n",
        "        \"negative\": -0.1  # Reduce positivity if recipient is in a bad mood\n",
        "    }\n",
        "\n",
        "    adjusted_score = sentiment_score + adjustment_factors.get(recipient_mood, 0.0)\n",
        "    interpretation = \"Positive\" if adjusted_score > 0 else \"Negative\" if adjusted_score < 0 else \"Neutral\"\n",
        "    return adjusted_score, interpretation\n",
        "\n",
        "recipient_mood = \"negative\"  # Example input from the recipient\n",
        "sentiment_score = sia.polarity_scores(email_content)['compound']\n",
        "adjusted_score, interpretation = adjust_tone_for_recipient(sentiment_score, recipient_mood)\n",
        "print(f\"Adjusted Sentiment Score: {adjusted_score:.2f} ({interpretation})\")\n",
        "\n"
      ],
      "metadata": {
        "colab": {
          "base_uri": "https://localhost:8080/"
        },
        "id": "F2yNmeZ0IJHg",
        "outputId": "e88d6565-dd6f-4cd7-80fa-a8e0d25acc28"
      },
      "id": "F2yNmeZ0IJHg",
      "execution_count": null,
      "outputs": [
        {
          "output_type": "stream",
          "name": "stdout",
          "text": [
            "Adjusted Sentiment Score: 0.87 (Positive)\n"
          ]
        }
      ]
    },
    {
      "cell_type": "markdown",
      "source": [
        "# 4. Keyword-Based Intent Analysis\n",
        "##Purpose:\n",
        "Detect specific intents (e.g., inquiry, complaint, request) in the email for better categorization and response.\n",
        "##Implementation:\n",
        "Use rule-based keyword matching to classify intent."
      ],
      "metadata": {
        "id": "dQ12K40dIS4H"
      },
      "id": "dQ12K40dIS4H"
    },
    {
      "cell_type": "code",
      "source": [
        "def detect_email_intent(email_content):\n",
        "    \"\"\"Classifies the email's intent based on detected keywords.\"\"\"\n",
        "    intents = {\n",
        "        \"inquiry\": [\"question\", \"inquire\", \"could you clarify\", \"want to know\"],\n",
        "        \"complaint\": [\"issue\", \"problem\", \"not satisfied\", \"concern\"],\n",
        "        \"request\": [\"please\", \"could you\", \"kindly\", \"would you\"],\n",
        "    }\n",
        "\n",
        "    detected_intents = []\n",
        "    for intent, keywords in intents.items():\n",
        "        if any(keyword in email_content.lower() for keyword in keywords):\n",
        "            detected_intents.append(intent)\n",
        "\n",
        "    return detected_intents\n",
        "\n",
        "# Example Usage\n",
        "intents = detect_email_intent(email_content)\n",
        "print(f\"Detected Intents: {', '.join(intents) if intents else 'None'}\")\n"
      ],
      "metadata": {
        "colab": {
          "base_uri": "https://localhost:8080/"
        },
        "id": "fIuv0toOIWnJ",
        "outputId": "6b4baca7-3815-426b-9edd-cf38c9e6f89d"
      },
      "id": "fIuv0toOIWnJ",
      "execution_count": null,
      "outputs": [
        {
          "output_type": "stream",
          "name": "stdout",
          "text": [
            "Detected Intents: complaint\n"
          ]
        }
      ]
    },
    {
      "cell_type": "markdown",
      "source": [
        "#5. Predict Response Priority\n",
        "##Purpose:\n",
        "\n",
        "Suggest a priority level for responding to the email based on sentiment, tone, and intent.\n",
        "##Implementation:\n",
        "\n",
        "Combine sentiment analysis, intent detection, and action phrases to assign a priority score."
      ],
      "metadata": {
        "id": "uXv79mCeIaQY"
      },
      "id": "uXv79mCeIaQY"
    },
    {
      "cell_type": "code",
      "source": [
        "def predict_response_priority(email_content):\n",
        "    \"\"\"Predicts response priority for the email.\"\"\"\n",
        "    sentiment = sia.polarity_scores(email_content)['compound']\n",
        "    intents = detect_email_intent(email_content)\n",
        "    actionable_items = extract_actionable_items(email_content)\n",
        "\n",
        "    # Assign priority\n",
        "    priority_score = 0\n",
        "    if sentiment < 0:  # Negative sentiment increases priority\n",
        "        priority_score += 2\n",
        "    if \"complaint\" in intents:  # Complaints have high priority\n",
        "        priority_score += 3\n",
        "    if actionable_items:  # Actionable items increase priority\n",
        "        priority_score += 1\n",
        "\n",
        "    # Map score to priority level\n",
        "    if priority_score >= 5:\n",
        "        return \"High Priority\"\n",
        "    elif 2 <= priority_score < 5:\n",
        "        return \"Medium Priority\"\n",
        "    else:\n",
        "        return \"Low Priority\"\n",
        "\n",
        "# Example Usage\n",
        "priority = predict_response_priority(email_content)\n",
        "print(f\"Response Priority: {priority}\")\n"
      ],
      "metadata": {
        "colab": {
          "base_uri": "https://localhost:8080/"
        },
        "id": "asxsmzznIeVL",
        "outputId": "ae1f325e-a6ad-4ce2-eda4-097f13894d83"
      },
      "id": "asxsmzznIeVL",
      "execution_count": null,
      "outputs": [
        {
          "output_type": "stream",
          "name": "stdout",
          "text": [
            "Response Priority: Medium Priority\n"
          ]
        }
      ]
    },
    {
      "cell_type": "markdown",
      "source": [
        "#6. Tone and Sentiment Categorization\n",
        "##Purpose:\n",
        "\n",
        "Provide an overall categorization of the email based on tone and sentiment.\n",
        "##Implementation:\n",
        "\n",
        "Combine sentiment polarity and emotion scores into distinct categories (e.g., “Constructive Criticism,” “Compliment”)."
      ],
      "metadata": {
        "id": "b6zyjcqmIhrW"
      },
      "id": "b6zyjcqmIhrW"
    },
    {
      "cell_type": "code",
      "source": [
        "def categorize_email_tone(sentiment_score, emotion_scores):\n",
        "    \"\"\"Categorizes email tone into distinct categories.\"\"\"\n",
        "    if sentiment_score > 0.5 and \"joy\" in emotion_scores:\n",
        "        return \"Compliment\"\n",
        "    elif sentiment_score < -0.5 and \"anger\" in emotion_scores:\n",
        "        return \"Complaint\"\n",
        "    elif sentiment_score < 0 and \"sadness\" in emotion_scores:\n",
        "        return \"Constructive Criticism\"\n",
        "    else:\n",
        "        return \"Neutral Communication\"\n",
        "\n",
        "# Example Usage\n",
        "sentiment_score = sia.polarity_scores(email_content)['compound']\n",
        "emotion_scores = {emotion['label']: emotion['score'] for emotion in emotion_detection(email_content)[0]}\n",
        "tone_category = categorize_email_tone(sentiment_score, emotion_scores)\n",
        "print(f\"Tone Category: {tone_category}\")\n"
      ],
      "metadata": {
        "colab": {
          "base_uri": "https://localhost:8080/"
        },
        "id": "w4YqJjT6Ijps",
        "outputId": "97391143-98bf-42dd-c834-596c8d777543"
      },
      "id": "w4YqJjT6Ijps",
      "execution_count": null,
      "outputs": [
        {
          "output_type": "stream",
          "name": "stdout",
          "text": [
            "Tone Category: Compliment\n"
          ]
        }
      ]
    },
    {
      "cell_type": "markdown",
      "source": [
        "# Sentence Expander\n",
        "\n",
        "A receiver/sender solution that will take a simple sentence and expound upon it.\n",
        "Making the input email more verbose and complex.\n",
        "\n",
        "Expanding a basic sentence or idea into a more complex, detailed version can be achieved using locally hosted models and rule-based approaches. Below are steps to implement this for both sender and receiver solutions.\n",
        "\n",
        "Implementation Overview\n",
        "1. Key Approaches\n",
        "\n",
        "    Rule-Based Approach:\n",
        "        Use grammar rules and linguistic transformations to add complexity to sentences.\n",
        "    Pre-Trained Language Models:\n",
        "        Use a locally hosted transformer model, such as GPT-2, to expand sentences by predicting the next sequence of words or adding descriptive details."
      ],
      "metadata": {
        "id": "5UohM0VMJaxg"
      },
      "id": "5UohM0VMJaxg"
    },
    {
      "cell_type": "markdown",
      "source": [
        "## 1. Sender-Side Solution: Adding Complexity to Simplistic Sentences\n",
        "Purpose:\n",
        "\n",
        "Help the sender write more elaborate and descriptive sentences for better communication.\n",
        "Implementation:\n",
        "\n",
        "Step 1: Sentence Expansion Using GPT-2\n",
        "\n",
        "Use GPT-2 to generate expanded versions of sentences. The model predicts the continuation of a sentence or adds descriptive details to its content."
      ],
      "metadata": {
        "id": "0UaaVT3JJm8N"
      },
      "id": "0UaaVT3JJm8N"
    },
    {
      "cell_type": "code",
      "source": [
        "from transformers import pipeline\n",
        "\n",
        "# Load locally hosted GPT-2 model for text generation\n",
        "def expand_sentence(sentence, max_length=100, num_return_sequences=1):\n",
        "    \"\"\"Expands a basic sentence into a more complex, detailed version.\"\"\"\n",
        "    generator = pipeline(\"text-generation\", model=\"gpt2\", device=-1)  # Use CPU\n",
        "    expanded_sentences = generator(sentence, max_length=max_length, num_return_sequences=num_return_sequences)\n",
        "    return [result['generated_text'] for result in expanded_sentences]\n",
        "\n",
        "# Example Usage\n",
        "basic_sentence = \"The meeting was productive.\"\n",
        "expanded_sentences = expand_sentence(basic_sentence)\n",
        "for expanded in expanded_sentences:\n",
        "    print(f\"Expanded Sentence: {expanded}\")\n"
      ],
      "metadata": {
        "colab": {
          "base_uri": "https://localhost:8080/"
        },
        "id": "Z5dRXawcJ0Lf",
        "outputId": "75948f0a-9621-48a3-fef5-2a19b46f69c5"
      },
      "id": "Z5dRXawcJ0Lf",
      "execution_count": null,
      "outputs": [
        {
          "output_type": "stream",
          "name": "stderr",
          "text": [
            "Truncation was not explicitly activated but `max_length` is provided a specific value, please use `truncation=True` to explicitly truncate examples to max length. Defaulting to 'longest_first' truncation strategy. If you encode pairs of sequences (GLUE-style) with the tokenizer you can select this strategy more precisely by providing a specific strategy to `truncation`.\n",
            "Setting `pad_token_id` to `eos_token_id`:None for open-end generation.\n"
          ]
        },
        {
          "output_type": "stream",
          "name": "stdout",
          "text": [
            "Expanded Sentence: The meeting was productive. We agreed to hold a couple of events a few days, because we had some time to take the time to focus on other things, and not spend too much time on this meeting.\n",
            "\n",
            "Q: That was something you did not have to worry about, did you?\n",
            "\n",
            "MARTIN: Yeah, and it wasn't like I was looking right now on Facebook. I don't remember making it out of a meeting that you did not have to face or that\n"
          ]
        }
      ]
    },
    {
      "cell_type": "markdown",
      "source": [
        "## 2. Sender-Side Solution: Enhancing Clarity by Expounding Ambiguous Sentences\n",
        "Purpose:\n",
        "\n",
        "Help the sender by expanding ambiguous or sarcastic sentences into clear, detailed versions for better interpretation.\n",
        "Implementation:\n",
        "\n",
        "Step 1: Identify Ambiguous or Sarcastic Sentences\n",
        "\n",
        "Reuse the existing sarcasm detection and sentiment analysis functions to identify problematic sentences."
      ],
      "metadata": {
        "id": "EZj0qcy6J8uj"
      },
      "id": "EZj0qcy6J8uj"
    },
    {
      "cell_type": "code",
      "source": [
        "import nltk\n",
        "nltk.download('punkt')\n",
        "from nltk.tokenize import sent_tokenize\n",
        "\n",
        "def tokenize_email(email_content):\n",
        "    \"\"\"Tokenizes the email content into sentences.\"\"\"\n",
        "    return sent_tokenize(email_content)\n",
        "\n",
        "\n",
        "from transformers import pipeline\n",
        "\n",
        "def detect_sarcasm_with_heuristics(email_content):\n",
        "    \"\"\"Detects sarcasm using a pre-trained Hugging Face model and heuristic methods.\"\"\"\n",
        "    sarcasm_pipeline = pipeline(\n",
        "        \"text-classification\",\n",
        "        model=\"mrm8488/t5-base-finetuned-sarcasm-twitter\",\n",
        "        device=-1  # Use CPU\n",
        "    )\n",
        "    sarcasm_result = sarcasm_pipeline(email_content)[0]\n",
        "\n",
        "    # Simple heuristic rules\n",
        "    sarcastic_phrases = [\n",
        "        \"valuable progress\", \"refreshing\", \"impressive time spent\",\n",
        "        \"as expected\", \"great job repeating\", \"looking forward to similar results\"\n",
        "    ]\n",
        "    detected_phrases = [phrase for phrase in email_content.lower().split() if phrase in sarcastic_phrases]\n",
        "    sarcasm_confidence = 0.7 if detected_phrases else 0.3  # Adjust score\n",
        "    heuristic_result = {\n",
        "        \"heuristic_detected\": bool(detected_phrases),\n",
        "        \"phrases\": detected_phrases,\n",
        "        \"score\": sarcasm_confidence,\n",
        "    }\n",
        "    combined_score = max(sarcasm_result['score'], heuristic_result['score'])\n",
        "    is_sarcastic = sarcasm_result['label'] == 'LABEL_1' or heuristic_result['heuristic_detected']\n",
        "\n",
        "    return {\n",
        "        \"label\": \"SARCASM\" if is_sarcastic else \"NOT_SARCASM\",\n",
        "        \"score\": combined_score,\n",
        "        \"heuristic_phrases\": heuristic_result['phrases']\n",
        "    }\n",
        "\n",
        "def identify_ambiguous_sentences(sentences, sarcasm_results, sarcasm_threshold=0.7):\n",
        "    \"\"\"Identifies ambiguous or sarcastic sentences.\"\"\"\n",
        "    ambiguous_sentences = []\n",
        "    for i, sarcasm in enumerate(sarcasm_results):\n",
        "        if sarcasm['label'] == \"SARCASM\" and sarcasm['score'] > sarcasm_threshold:\n",
        "            ambiguous_sentences.append(sentences[i])\n",
        "    return ambiguous_sentences\n",
        "\n",
        "\n",
        "# Load locally hosted GPT-2 model for text generation\n",
        "def expand_sentence(sentence, max_length=50, num_return_sequences=1):\n",
        "    \"\"\"Expands a basic sentence into a more complex, detailed version.\"\"\"\n",
        "    generator = pipeline(\"text-generation\", model=\"gpt2\", device=-1)  # Use CPU\n",
        "    expanded_sentences = generator(sentence, max_length=max_length, num_return_sequences=num_return_sequences)\n",
        "    return [result['generated_text'] for result in expanded_sentences]\n",
        "\n",
        "def expand_ambiguous_sentences(ambiguous_sentences):\n",
        "    \"\"\"Expands ambiguous or sarcastic sentences to make them clearer.\"\"\"\n",
        "    expanded_sentences = []\n",
        "    for sentence in ambiguous_sentences:\n",
        "        expanded = expand_sentence(sentence, max_length=50)\n",
        "        expanded_sentences.append(expanded[0])  # Take the first expanded result\n",
        "    return expanded_sentences\n",
        "\n",
        "def receiver_analysis_workflow(email_content):\n",
        "    \"\"\"Workflow for receiver-side analysis and ambiguous sentence expansion.\"\"\"\n",
        "    # Step 1: Tokenize email content into sentences\n",
        "    sentences = tokenize_email(email_content)\n",
        "\n",
        "    # Step 2: Analyze each sentence for sarcasm\n",
        "    sarcasm_results = [detect_sarcasm_with_heuristics(sentence) for sentence in sentences]\n",
        "\n",
        "    # Step 3: Highlight ambiguous sections\n",
        "    ambiguous_sentences = identify_ambiguous_sentences(sentences, sarcasm_results)\n",
        "\n",
        "    # Step 4: Expand ambiguous sentences\n",
        "    expanded_sentences = expand_ambiguous_sentences(ambiguous_sentences)\n",
        "\n",
        "    # Display expanded sentences\n",
        "    print(\"\\nExpanded Ambiguous Sentences:\")\n",
        "    for original, expanded in zip(ambiguous_sentences, expanded_sentences):\n",
        "        print(f\"Original: {original}\")\n",
        "        print(f\"Expanded: {expanded}\\n\")\n",
        "\n",
        "    # Optional: Add visualization or actionable items if needed\n",
        "# Test Email Content\n",
        "email_content = \"\"\"\n",
        "Dear [Manager’s Name],\n",
        "Thank you so much for organizing yesterday’s meeting. It was truly impressive to see how much time we spent reviewing\n",
        "the same points as last week without reaching any new conclusions. I appreciate the opportunity to listen to everyone’s\n",
        "thoughts – again – on issues we’ve already discussed multiple times. It’s always refreshing to attend meetings where\n",
        "decisions are avoided, and everyone leaves feeling as uncertain as they did beforehand. I look forward to the next one,\n",
        "where I’m sure we’ll make equally valuable progress.\n",
        "Best regards,\n",
        "[Your Name]\n",
        "\"\"\"\n",
        "\n",
        "# Run Receiver Workflow\n",
        "receiver_analysis_workflow(email_content)"
      ],
      "metadata": {
        "colab": {
          "base_uri": "https://localhost:8080/"
        },
        "id": "v4SlN-_zXf6C",
        "outputId": "9fa78f92-ab19-44e3-8cdc-ef23e59f833e"
      },
      "id": "v4SlN-_zXf6C",
      "execution_count": null,
      "outputs": [
        {
          "output_type": "stream",
          "name": "stderr",
          "text": [
            "[nltk_data] Downloading package punkt to /root/nltk_data...\n",
            "[nltk_data]   Package punkt is already up-to-date!\n",
            "Truncation was not explicitly activated but `max_length` is provided a specific value, please use `truncation=True` to explicitly truncate examples to max length. Defaulting to 'longest_first' truncation strategy. If you encode pairs of sequences (GLUE-style) with the tokenizer you can select this strategy more precisely by providing a specific strategy to `truncation`.\n",
            "Setting `pad_token_id` to `eos_token_id`:None for open-end generation.\n"
          ]
        },
        {
          "output_type": "stream",
          "name": "stdout",
          "text": [
            "\n",
            "Expanded Ambiguous Sentences:\n",
            "Original: It’s always refreshing to attend meetings where \n",
            "decisions are avoided, and everyone leaves feeling as uncertain as they did beforehand.\n",
            "Expanded: It’s always refreshing to attend meetings where \n",
            "decisions are avoided, and everyone leaves feeling as uncertain as they did beforehand. If the\n",
            "\n",
            "newbies get in touch by phone, we are always able to hear as well. It\n",
            "\n"
          ]
        }
      ]
    }
  ],
  "metadata": {
    "colab": {
      "provenance": [],
      "include_colab_link": true
    },
    "language_info": {
      "name": "python"
    },
    "kernelspec": {
      "name": "python3",
      "display_name": "Python 3"
    }
  },
  "nbformat": 4,
  "nbformat_minor": 5
}